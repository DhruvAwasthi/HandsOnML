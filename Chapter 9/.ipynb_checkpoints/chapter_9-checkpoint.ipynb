{
 "cells": [
  {
   "cell_type": "markdown",
   "metadata": {
    "colab_type": "text",
    "id": "78wtGSinCMu1"
   },
   "source": [
    "# Installing and Importing TensorFlow v1"
   ]
  },
  {
   "cell_type": "code",
   "execution_count": 1,
   "metadata": {
    "colab": {
     "base_uri": "https://localhost:8080/",
     "height": 419
    },
    "colab_type": "code",
    "id": "_Z7UWJa5yYuq",
    "outputId": "daca424c-144e-46c4-d599-73b67d22cc32"
   },
   "outputs": [
    {
     "name": "stdout",
     "output_type": "stream",
     "text": [
      "Requirement already satisfied: tensorflow==1.14.0 in /home/caesar/anaconda3/lib/python3.7/site-packages (1.14.0)\n",
      "Requirement already satisfied: keras-applications>=1.0.6 in /home/caesar/anaconda3/lib/python3.7/site-packages (from tensorflow==1.14.0) (1.0.8)\n",
      "Requirement already satisfied: numpy<2.0,>=1.14.5 in /home/caesar/anaconda3/lib/python3.7/site-packages (from tensorflow==1.14.0) (1.18.1)\n",
      "Requirement already satisfied: tensorboard<1.15.0,>=1.14.0 in /home/caesar/anaconda3/lib/python3.7/site-packages (from tensorflow==1.14.0) (1.14.0)\n",
      "Requirement already satisfied: protobuf>=3.6.1 in /home/caesar/anaconda3/lib/python3.7/site-packages (from tensorflow==1.14.0) (3.11.4)\n",
      "Requirement already satisfied: tensorflow-estimator<1.15.0rc0,>=1.14.0rc0 in /home/caesar/anaconda3/lib/python3.7/site-packages (from tensorflow==1.14.0) (1.14.0)\n",
      "Requirement already satisfied: six>=1.10.0 in /home/caesar/anaconda3/lib/python3.7/site-packages (from tensorflow==1.14.0) (1.14.0)\n",
      "Requirement already satisfied: termcolor>=1.1.0 in /home/caesar/anaconda3/lib/python3.7/site-packages (from tensorflow==1.14.0) (1.1.0)\n",
      "Requirement already satisfied: grpcio>=1.8.6 in /home/caesar/anaconda3/lib/python3.7/site-packages (from tensorflow==1.14.0) (1.27.2)\n",
      "Requirement already satisfied: absl-py>=0.7.0 in /home/caesar/anaconda3/lib/python3.7/site-packages (from tensorflow==1.14.0) (0.9.0)\n",
      "Requirement already satisfied: wrapt>=1.11.1 in /home/caesar/anaconda3/lib/python3.7/site-packages (from tensorflow==1.14.0) (1.11.2)\n",
      "Requirement already satisfied: google-pasta>=0.1.6 in /home/caesar/anaconda3/lib/python3.7/site-packages (from tensorflow==1.14.0) (0.2.0)\n",
      "Requirement already satisfied: wheel>=0.26 in /home/caesar/anaconda3/lib/python3.7/site-packages (from tensorflow==1.14.0) (0.34.2)\n",
      "Requirement already satisfied: astor>=0.6.0 in /home/caesar/anaconda3/lib/python3.7/site-packages (from tensorflow==1.14.0) (0.7.1)\n",
      "Requirement already satisfied: keras-preprocessing>=1.0.5 in /home/caesar/anaconda3/lib/python3.7/site-packages (from tensorflow==1.14.0) (1.1.0)\n",
      "Requirement already satisfied: gast>=0.2.0 in /home/caesar/anaconda3/lib/python3.7/site-packages (from tensorflow==1.14.0) (0.3.3)\n",
      "Requirement already satisfied: h5py in /home/caesar/anaconda3/lib/python3.7/site-packages (from keras-applications>=1.0.6->tensorflow==1.14.0) (2.10.0)\n",
      "Requirement already satisfied: markdown>=2.6.8 in /home/caesar/anaconda3/lib/python3.7/site-packages (from tensorboard<1.15.0,>=1.14.0->tensorflow==1.14.0) (3.2.1)\n",
      "Requirement already satisfied: werkzeug>=0.11.15 in /home/caesar/anaconda3/lib/python3.7/site-packages (from tensorboard<1.15.0,>=1.14.0->tensorflow==1.14.0) (1.0.0)\n",
      "Requirement already satisfied: setuptools>=41.0.0 in /home/caesar/anaconda3/lib/python3.7/site-packages (from tensorboard<1.15.0,>=1.14.0->tensorflow==1.14.0) (45.2.0.post20200210)\n"
     ]
    },
    {
     "name": "stderr",
     "output_type": "stream",
     "text": [
      "/home/caesar/anaconda3/lib/python3.7/site-packages/tensorflow/python/framework/dtypes.py:516: FutureWarning: Passing (type, 1) or '1type' as a synonym of type is deprecated; in a future version of numpy, it will be understood as (type, (1,)) / '(1,)type'.\n",
      "  _np_qint8 = np.dtype([(\"qint8\", np.int8, 1)])\n",
      "/home/caesar/anaconda3/lib/python3.7/site-packages/tensorflow/python/framework/dtypes.py:517: FutureWarning: Passing (type, 1) or '1type' as a synonym of type is deprecated; in a future version of numpy, it will be understood as (type, (1,)) / '(1,)type'.\n",
      "  _np_quint8 = np.dtype([(\"quint8\", np.uint8, 1)])\n",
      "/home/caesar/anaconda3/lib/python3.7/site-packages/tensorflow/python/framework/dtypes.py:518: FutureWarning: Passing (type, 1) or '1type' as a synonym of type is deprecated; in a future version of numpy, it will be understood as (type, (1,)) / '(1,)type'.\n",
      "  _np_qint16 = np.dtype([(\"qint16\", np.int16, 1)])\n",
      "/home/caesar/anaconda3/lib/python3.7/site-packages/tensorflow/python/framework/dtypes.py:519: FutureWarning: Passing (type, 1) or '1type' as a synonym of type is deprecated; in a future version of numpy, it will be understood as (type, (1,)) / '(1,)type'.\n",
      "  _np_quint16 = np.dtype([(\"quint16\", np.uint16, 1)])\n",
      "/home/caesar/anaconda3/lib/python3.7/site-packages/tensorflow/python/framework/dtypes.py:520: FutureWarning: Passing (type, 1) or '1type' as a synonym of type is deprecated; in a future version of numpy, it will be understood as (type, (1,)) / '(1,)type'.\n",
      "  _np_qint32 = np.dtype([(\"qint32\", np.int32, 1)])\n",
      "/home/caesar/anaconda3/lib/python3.7/site-packages/tensorflow/python/framework/dtypes.py:525: FutureWarning: Passing (type, 1) or '1type' as a synonym of type is deprecated; in a future version of numpy, it will be understood as (type, (1,)) / '(1,)type'.\n",
      "  np_resource = np.dtype([(\"resource\", np.ubyte, 1)])\n"
     ]
    },
    {
     "name": "stdout",
     "output_type": "stream",
     "text": [
      "\n",
      "\n",
      "TensorFlow version: 1.14.0\n"
     ]
    },
    {
     "name": "stderr",
     "output_type": "stream",
     "text": [
      "/home/caesar/anaconda3/lib/python3.7/site-packages/tensorboard/compat/tensorflow_stub/dtypes.py:541: FutureWarning: Passing (type, 1) or '1type' as a synonym of type is deprecated; in a future version of numpy, it will be understood as (type, (1,)) / '(1,)type'.\n",
      "  _np_qint8 = np.dtype([(\"qint8\", np.int8, 1)])\n",
      "/home/caesar/anaconda3/lib/python3.7/site-packages/tensorboard/compat/tensorflow_stub/dtypes.py:542: FutureWarning: Passing (type, 1) or '1type' as a synonym of type is deprecated; in a future version of numpy, it will be understood as (type, (1,)) / '(1,)type'.\n",
      "  _np_quint8 = np.dtype([(\"quint8\", np.uint8, 1)])\n",
      "/home/caesar/anaconda3/lib/python3.7/site-packages/tensorboard/compat/tensorflow_stub/dtypes.py:543: FutureWarning: Passing (type, 1) or '1type' as a synonym of type is deprecated; in a future version of numpy, it will be understood as (type, (1,)) / '(1,)type'.\n",
      "  _np_qint16 = np.dtype([(\"qint16\", np.int16, 1)])\n",
      "/home/caesar/anaconda3/lib/python3.7/site-packages/tensorboard/compat/tensorflow_stub/dtypes.py:544: FutureWarning: Passing (type, 1) or '1type' as a synonym of type is deprecated; in a future version of numpy, it will be understood as (type, (1,)) / '(1,)type'.\n",
      "  _np_quint16 = np.dtype([(\"quint16\", np.uint16, 1)])\n",
      "/home/caesar/anaconda3/lib/python3.7/site-packages/tensorboard/compat/tensorflow_stub/dtypes.py:545: FutureWarning: Passing (type, 1) or '1type' as a synonym of type is deprecated; in a future version of numpy, it will be understood as (type, (1,)) / '(1,)type'.\n",
      "  _np_qint32 = np.dtype([(\"qint32\", np.int32, 1)])\n",
      "/home/caesar/anaconda3/lib/python3.7/site-packages/tensorboard/compat/tensorflow_stub/dtypes.py:550: FutureWarning: Passing (type, 1) or '1type' as a synonym of type is deprecated; in a future version of numpy, it will be understood as (type, (1,)) / '(1,)type'.\n",
      "  np_resource = np.dtype([(\"resource\", np.ubyte, 1)])\n"
     ]
    }
   ],
   "source": [
    "# Import the TensorFlow and output the verion\n",
    "\n",
    "!pip install tensorflow==1.14.0\n",
    "import tensorflow as tf\n",
    "print(\"\\n\\nTensorFlow version:\", tf.__version__)"
   ]
  },
  {
   "cell_type": "markdown",
   "metadata": {
    "colab_type": "text",
    "id": "rabMUOVb_e2H"
   },
   "source": [
    "# Creating Your First Graph and Running It in a Session"
   ]
  },
  {
   "cell_type": "code",
   "execution_count": 2,
   "metadata": {
    "colab": {},
    "colab_type": "code",
    "id": "o6HKrm7pzfAX"
   },
   "outputs": [],
   "source": [
    "# The following code creates a computation graph which can be used to do the computation later on\n",
    "\n",
    "x = tf.Variable(3, name=\"x\")\n",
    "y = tf.Variable(4, name=\"y\")\n",
    "f = x*x*y + y + 2"
   ]
  },
  {
   "cell_type": "code",
   "execution_count": 3,
   "metadata": {
    "colab": {
     "base_uri": "https://localhost:8080/",
     "height": 237
    },
    "colab_type": "code",
    "id": "2EMlF1CazjlA",
    "outputId": "109d2abb-b468-4c7a-a139-94599f7ce655"
   },
   "outputs": [
    {
     "name": "stdout",
     "output_type": "stream",
     "text": [
      "42\n"
     ]
    }
   ],
   "source": [
    "# The following code creates a session, initilizes the variables, and evaluates f then closes the session.\n",
    "\n",
    "sess = tf.Session()\n",
    "sess.run(x.initializer)\n",
    "sess.run(y.initializer)\n",
    "result = sess.run(f)\n",
    "print(result)\n",
    "sess.close()"
   ]
  },
  {
   "cell_type": "code",
   "execution_count": 4,
   "metadata": {
    "colab": {},
    "colab_type": "code",
    "id": "E9jLBYTKzl5z"
   },
   "outputs": [
    {
     "name": "stdout",
     "output_type": "stream",
     "text": [
      "42\n"
     ]
    }
   ],
   "source": [
    "# Having to repeat sess.run() all the time is a bit cumbersome, so there is a better way to do this:\n",
    "\n",
    "with tf.Session() as sess:\n",
    "  x.initializer.run()         # it is similat to tf.get_default_session().run(x.initializer)\n",
    "  y.initializer.run()         # it is similar to tf.get_deafult_session().run(y.initializer)\n",
    "  result = f.eval()           # it is similar to tf.get_default_session().run(f)\n",
    "  print(result)\n",
    "\n",
    "# Inside the with block, the session is set as the default session"
   ]
  },
  {
   "cell_type": "code",
   "execution_count": 5,
   "metadata": {
    "colab": {},
    "colab_type": "code",
    "id": "OvFNX-M61elw"
   },
   "outputs": [
    {
     "name": "stdout",
     "output_type": "stream",
     "text": [
      "<bound method Tensor.eval of <tf.Tensor 'add_1:0' shape=() dtype=int32>>\n"
     ]
    }
   ],
   "source": [
    "# Instead of manually running the initializer for every single variable, you can use the \n",
    "# global_variables_initializer() function that creates a node in the graph that will initialize all the variables \n",
    "# when it runs\n",
    "\n",
    "init = tf.global_variables_initializer()      # prepare an init node\n",
    "\n",
    "with tf.Session() as sess:\n",
    "  init.run() # actually initializes all the variables\n",
    "  result = f.eval\n",
    "  print(result)"
   ]
  },
  {
   "cell_type": "code",
   "execution_count": 6,
   "metadata": {
    "colab": {},
    "colab_type": "code",
    "id": "TF9znF6s6K9n"
   },
   "outputs": [
    {
     "name": "stdout",
     "output_type": "stream",
     "text": [
      "42\n"
     ]
    }
   ],
   "source": [
    "# We can also use and InteractiveSession which differs from a regular Session in the fact that when an \n",
    "# InteractiveSession is created it automatically sets itself as the default session, so you don't need a with \n",
    "# block.\n",
    "sess = tf.InteractiveSession()\n",
    "init.run()\n",
    "result = f.eval()\n",
    "print(result)\n",
    "sess.close()"
   ]
  },
  {
   "cell_type": "markdown",
   "metadata": {
    "colab_type": "text",
    "id": "j3VA43rUAA2e"
   },
   "source": [
    "**NOTE:** A TensorFlow program is typically split into two parts: the first part builds a computation graph (this is called the *construction* phase) that represents the ML model and the computations required to train it, an the second part runs it (this is called the *execution* phase) that generally runs a loop that evaluates a training step repeatedly, gradually improving the model parameters."
   ]
  },
  {
   "cell_type": "markdown",
   "metadata": {
    "colab_type": "text",
    "id": "Fq1rhi7TARD7"
   },
   "source": [
    "# Managing Graphs"
   ]
  },
  {
   "cell_type": "code",
   "execution_count": 7,
   "metadata": {
    "colab": {},
    "colab_type": "code",
    "id": "zhf7qL6pAS5r"
   },
   "outputs": [
    {
     "data": {
      "text/plain": [
       "True"
      ]
     },
     "execution_count": 7,
     "metadata": {},
     "output_type": "execute_result"
    }
   ],
   "source": [
    "# Any node you create is automatically added to the default graph:\n",
    "\n",
    "x1 = tf.Variable(1)\n",
    "x1.graph is tf.get_default_graph()"
   ]
  },
  {
   "cell_type": "code",
   "execution_count": 8,
   "metadata": {
    "colab": {},
    "colab_type": "code",
    "id": "2k-Go6BUBW2g"
   },
   "outputs": [
    {
     "data": {
      "text/plain": [
       "True"
      ]
     },
     "execution_count": 8,
     "metadata": {},
     "output_type": "execute_result"
    }
   ],
   "source": [
    "# In most cases it is fine, but sometimes you may want to manage multiple independent graphs. You can do this by \n",
    "# creating a new Graph and temporarily making it the default graph inside a with block:\n",
    "\n",
    "graph = tf.Graph()\n",
    "with graph.as_default():\n",
    "  x2 = tf.Variable(2)\n",
    "\n",
    "x2.graph is graph"
   ]
  },
  {
   "cell_type": "code",
   "execution_count": 9,
   "metadata": {
    "colab": {},
    "colab_type": "code",
    "id": "3NvLIy8AB0sA"
   },
   "outputs": [
    {
     "data": {
      "text/plain": [
       "False"
      ]
     },
     "execution_count": 9,
     "metadata": {},
     "output_type": "execute_result"
    }
   ],
   "source": [
    "x2.graph is tf.get_default_graph()"
   ]
  },
  {
   "cell_type": "markdown",
   "metadata": {
    "colab_type": "text",
    "id": "dWrke8SdB_5C"
   },
   "source": [
    "# Lifecycle of a Node Value"
   ]
  },
  {
   "cell_type": "code",
   "execution_count": 10,
   "metadata": {
    "colab": {},
    "colab_type": "code",
    "id": "Ll1zkqkcB4WL"
   },
   "outputs": [
    {
     "name": "stdout",
     "output_type": "stream",
     "text": [
      "y: 10\n",
      "z: 8\n"
     ]
    }
   ],
   "source": [
    "# A variable starts its life when its initializer is run, and it ends when the session is closed. \n",
    "# When you evaluate a graph, TensorFlow automatically determines the set of nodes that it depends on and it \n",
    "# evaluates these nodes first. For example consider the following code:\n",
    "\n",
    "w = tf.constant(3)\n",
    "x = w + 2\n",
    "y = x + 5\n",
    "z = x + 3\n",
    "\n",
    "with tf.Session() as sess:\n",
    "  print(\"y:\", y.eval())\n",
    "  print(\"z:\", z.eval())\n",
    "\n",
    "# This starts a session adn runs the graph to evaluate y: TensorFlow automatically detects that y depends on x, \n",
    "# which depends on w, so it first evaluates w, then x, then y, and returns the value of y. Finally, the code runs \n",
    "# the graph to evaluate z. Once again, TensorFlow detects that it must first evaluate w and x. It will not reuse \n",
    "# the result of the previous evaluations of w and x. The code evaluates w and x twice."
   ]
  },
  {
   "cell_type": "code",
   "execution_count": 11,
   "metadata": {
    "colab": {},
    "colab_type": "code",
    "id": "8GTyDrptFBpt"
   },
   "outputs": [
    {
     "name": "stdout",
     "output_type": "stream",
     "text": [
      "y: 10\n",
      "z: 8\n"
     ]
    }
   ],
   "source": [
    "# If you want to evaluate y and z efficiently, without evaluating w and x twice, you must ask TensorFlow to \n",
    "# evaluate both y and x in just one graph run:\n",
    "\n",
    "with tf.Session() as sess:\n",
    "  y_val, z_val = sess.run([y, z])\n",
    "  print(\"y:\", y_val)\n",
    "  print(\"z:\", z_val)\n"
   ]
  },
  {
   "cell_type": "markdown",
   "metadata": {
    "colab_type": "text",
    "id": "cQSRL4l2H_Mt"
   },
   "source": [
    "# Linear Regression with TensorFlow"
   ]
  },
  {
   "cell_type": "code",
   "execution_count": 12,
   "metadata": {
    "colab": {},
    "colab_type": "code",
    "id": "6skZU8UkH9HP"
   },
   "outputs": [],
   "source": [
    "# TensorFlow operations are called ops for short. Constants and variables take no input, so they are called \n",
    "# source ops. The inputs and outputs are multidimensional arrays, called tensors (hence the name tensor flow).\n",
    "\n",
    "import numpy as np\n",
    "from sklearn.datasets import fetch_california_housing\n",
    "\n",
    "housing = fetch_california_housing()\n",
    "m, n = housing.data.shape\n",
    "housing_data_plus_bias = np.c_[np.ones((m, 1)), housing.data]\n",
    "\n",
    "X = tf.constant(housing_data_plus_bias, dtype=tf.float32, name=\"X\")\n",
    "y = tf.constant(housing.target.reshape(-1, 1), dtype=tf.float32, name=\"y\")\n",
    "XT = tf.transpose(X)\n",
    "theta = tf.matmul(tf.matmul(tf.matrix_inverse(tf.matmul(XT, X)), XT), y)\n",
    "\n",
    "with tf.Session() as sess:\n",
    "  theta_value = theta.eval()"
   ]
  },
  {
   "cell_type": "markdown",
   "metadata": {
    "colab_type": "text",
    "id": "96LE5eP2MJ9C"
   },
   "source": [
    "# Implementing Gradient Descnet"
   ]
  },
  {
   "cell_type": "markdown",
   "metadata": {
    "colab_type": "text",
    "id": "uzHaGommMP7K"
   },
   "source": [
    "### Manually Computing the gradients:"
   ]
  },
  {
   "cell_type": "code",
   "execution_count": 13,
   "metadata": {
    "colab": {},
    "colab_type": "code",
    "id": "IlRLfRq2J5Lz"
   },
   "outputs": [
    {
     "name": "stdout",
     "output_type": "stream",
     "text": [
      "Epoch 0 MSE = 8.700601\n",
      "Epoch 100 MSE = 0.863737\n",
      "Epoch 200 MSE = 0.678505\n",
      "Epoch 300 MSE = 0.64465284\n",
      "Epoch 400 MSE = 0.62064815\n",
      "Epoch 500 MSE = 0.60180944\n",
      "Epoch 600 MSE = 0.58688915\n",
      "Epoch 700 MSE = 0.5750141\n",
      "Epoch 800 MSE = 0.56552094\n",
      "Epoch 900 MSE = 0.55790067\n",
      "503094\n"
     ]
    }
   ],
   "source": [
    "from sklearn.preprocessing import StandardScaler\n",
    "\n",
    "scaler = StandardScaler()\n",
    "scaled_housing_data = scaler.fit_transform(housing.data)\n",
    "scaled_housing_data_plus_bias = np.c_[np.ones((m, 1)), scaled_housing_data]\n",
    "\n",
    "n_epochs = 1000\n",
    "learning_rate = 0.01\n",
    "\n",
    "X = tf.constant(scaled_housing_data_plus_bias, dtype=tf.float32, name=\"X\")\n",
    "y = tf.constant(housing.target.reshape(-1, 1), dtype=tf.float32, name=\"y\")\n",
    "theta = tf.Variable(tf.random_uniform([n + 1, 1], -1.0, 1.0), name=\"theta\")\n",
    "y_pred = tf.matmul(X, theta, name=\"predictions\")\n",
    "error = y_pred - y\n",
    "mse = tf.reduce_mean(tf.square(error), name=\"mse\")\n",
    "gradients = 2/m * tf.matmul(tf.transpose(X), error)\n",
    "training_op = tf.assign(theta, theta - learning_rate * gradients)\n",
    "\n",
    "init = tf.global_variables_initializer()\n",
    "\n",
    "import datetime\n",
    "a = datetime.datetime.now()\n",
    "with tf.Session() as sess:\n",
    "  sess.run(init)\n",
    "\n",
    "  for epoch in range(n_epochs):\n",
    "    if epoch % 100 == 0:\n",
    "      print(\"Epoch\", epoch, \"MSE =\", mse.eval())\n",
    "    sess.run(training_op)\n",
    "  \n",
    "  best_theta = theta.eval()\n",
    "b = datetime.datetime.now()\n",
    "c = b - a\n",
    "print(c.microseconds)\n",
    "\n",
    "# The random_uniform() function creates a node in the graph that will generate a tensor containing random values,\n",
    "# given its shape and value range. The assign() funnction creates a node that will assign a new value to a \n",
    "# variable."
   ]
  },
  {
   "cell_type": "markdown",
   "metadata": {
    "colab_type": "text",
    "id": "Tfpy6WhqRqCt"
   },
   "source": [
    "### Using autodiff:"
   ]
  },
  {
   "cell_type": "code",
   "execution_count": 14,
   "metadata": {
    "colab": {},
    "colab_type": "code",
    "id": "RFlpij7lOT-t"
   },
   "outputs": [
    {
     "name": "stdout",
     "output_type": "stream",
     "text": [
      "Epoch 0 MSE = 4.9341893\n",
      "Epoch 100 MSE = 0.5975343\n",
      "Epoch 200 MSE = 0.5378403\n",
      "Epoch 300 MSE = 0.5347589\n",
      "Epoch 400 MSE = 0.5330015\n",
      "Epoch 500 MSE = 0.53155345\n",
      "Epoch 600 MSE = 0.53034735\n",
      "Epoch 700 MSE = 0.5293424\n",
      "Epoch 800 MSE = 0.52850515\n",
      "Epoch 900 MSE = 0.52780735\n",
      "569211\n"
     ]
    }
   ],
   "source": [
    "# TensorFlow's autodiff feature can automatically and efficiently compute the gradeints for you.\n",
    "tf.reset_default_graph()\n",
    "\n",
    "from sklearn.preprocessing import StandardScaler\n",
    "\n",
    "scaler = StandardScaler()\n",
    "scaled_housing_data = scaler.fit_transform(housing.data)\n",
    "scaled_housing_data_plus_bias = np.c_[np.ones((m, 1)), scaled_housing_data]\n",
    "\n",
    "n_epochs = 1000\n",
    "learning_rate = 0.01\n",
    "\n",
    "X = tf.constant(scaled_housing_data_plus_bias, dtype=tf.float32, name=\"X\")\n",
    "y = tf.constant(housing.target.reshape(-1, 1), dtype=tf.float32, name=\"y\")\n",
    "theta = tf.Variable(tf.random_uniform([n + 1, 1], -1.0, 1.0), name=\"theta\")\n",
    "y_pred = tf.matmul(X, theta, name=\"predictions\")\n",
    "error = y_pred - y\n",
    "mse = tf.reduce_mean(tf.square(error), name=\"mse\")\n",
    "gradients = tf.gradients(mse, [theta])[0]\n",
    "training_op = tf.assign(theta, theta - learning_rate * gradients)\n",
    "\n",
    "init = tf.global_variables_initializer()\n",
    "\n",
    "import datetime\n",
    "a = datetime.datetime.now()\n",
    "with tf.Session() as sess:\n",
    "  sess.run(init)\n",
    "\n",
    "  for epoch in range(n_epochs):\n",
    "    if epoch % 100 == 0:\n",
    "      print(\"Epoch\", epoch, \"MSE =\", mse.eval())\n",
    "    sess.run(training_op)\n",
    "  \n",
    "  best_theta = theta.eval()\n",
    "b = datetime.datetime.now()\n",
    "c = b - a\n",
    "print(c.microseconds)"
   ]
  },
  {
   "cell_type": "markdown",
   "metadata": {
    "colab_type": "text",
    "id": "dCO7QxH8RclH"
   },
   "source": [
    "## Using an Optimizer:"
   ]
  },
  {
   "cell_type": "code",
   "execution_count": 15,
   "metadata": {
    "colab": {},
    "colab_type": "code",
    "id": "MByay2EqQo22"
   },
   "outputs": [
    {
     "name": "stdout",
     "output_type": "stream",
     "text": [
      "Epoch 0 MSE = 9.746673\n",
      "Epoch 100 MSE = 0.9350406\n",
      "Epoch 200 MSE = 0.728805\n",
      "Epoch 300 MSE = 0.6838445\n",
      "Epoch 400 MSE = 0.65107054\n",
      "Epoch 500 MSE = 0.6255192\n",
      "Epoch 600 MSE = 0.60546035\n",
      "Epoch 700 MSE = 0.5896337\n",
      "Epoch 800 MSE = 0.57708615\n",
      "Epoch 900 MSE = 0.5670926\n",
      "942841\n"
     ]
    }
   ],
   "source": [
    "# TensorFlow provides a number of optimizers to simplify the code. You just need to select the one.\n",
    "\n",
    "tf.reset_default_graph()\n",
    "\n",
    "from sklearn.preprocessing import StandardScaler\n",
    "\n",
    "scaler = StandardScaler()\n",
    "scaled_housing_data = scaler.fit_transform(housing.data)\n",
    "scaled_housing_data_plus_bias = np.c_[np.ones((m, 1)), scaled_housing_data]\n",
    "\n",
    "n_epochs = 1000\n",
    "learning_rate = 0.01\n",
    "\n",
    "X = tf.constant(scaled_housing_data_plus_bias, dtype=tf.float32, name=\"X\")\n",
    "y = tf.constant(housing.target.reshape(-1, 1), dtype=tf.float32, name=\"y\")\n",
    "theta = tf.Variable(tf.random_uniform([n + 1, 1], -1.0, 1.0), name=\"theta\")\n",
    "y_pred = tf.matmul(X, theta, name=\"predictions\")\n",
    "error = y_pred - y\n",
    "mse = tf.reduce_mean(tf.square(error), name=\"mse\")\n",
    "optimizer = tf.train.GradientDescentOptimizer(learning_rate=learning_rate)\n",
    "training_op = optimizer.minimize(mse)\n",
    "\n",
    "init = tf.global_variables_initializer()\n",
    "\n",
    "import datetime\n",
    "a = datetime.datetime.now()\n",
    "with tf.Session() as sess:\n",
    "  sess.run(init)\n",
    "\n",
    "  for epoch in range(n_epochs):\n",
    "    if epoch % 100 == 0:\n",
    "      print(\"Epoch\", epoch, \"MSE =\", mse.eval())\n",
    "    sess.run(training_op)\n",
    "  \n",
    "  best_theta = theta.eval()\n",
    "b = datetime.datetime.now()\n",
    "c = b - a\n",
    "print(c.microseconds)"
   ]
  },
  {
   "cell_type": "markdown",
   "metadata": {
    "colab_type": "text",
    "id": "91BQGrPqT3d-"
   },
   "source": [
    "# Feeding Data to the Training Algorithm"
   ]
  },
  {
   "cell_type": "code",
   "execution_count": 16,
   "metadata": {
    "colab": {},
    "colab_type": "code",
    "id": "o9zZuTxCRgeN"
   },
   "outputs": [
    {
     "name": "stdout",
     "output_type": "stream",
     "text": [
      "B_val_1:\n",
      " [[6. 7. 8.]]\n",
      "\n",
      "B_val_2:\n",
      " [[ 9. 10. 11.]\n",
      " [12. 13. 14.]]\n"
     ]
    }
   ],
   "source": [
    "# To pass the training data to TensorFlow during training, we use placeholder nodes which don't actually perform \n",
    "# any computation but just output the data you tell them to output at runtime. For example, the following code \n",
    "# creates a placeholder node A and also a node B. When we evaluate B, we pass a feed_dict to the eval() method \n",
    "# that specifies the value of A.\n",
    "\n",
    "A = tf.placeholder(tf.float32, shape=(None, 3))\n",
    "B = A + 5\n",
    "\n",
    "with tf.Session() as sess:\n",
    "  B_val_1 = B.eval(feed_dict={A: [[1, 2, 3]]})\n",
    "  B_val_2 = B.eval(feed_dict={A: [[4, 5, 6], [7, 8, 9]]})\n",
    "\n",
    "print(\"B_val_1:\\n\", B_val_1)\n",
    "print(\"\\nB_val_2:\\n\", B_val_2)"
   ]
  },
  {
   "cell_type": "code",
   "execution_count": 17,
   "metadata": {
    "colab": {},
    "colab_type": "code",
    "id": "K3LwzjdAWz5w"
   },
   "outputs": [
    {
     "name": "stdout",
     "output_type": "stream",
     "text": [
      "[[ 2.0714476 ]\n",
      " [ 0.8462012 ]\n",
      " [ 0.11558535]\n",
      " [-0.26835832]\n",
      " [ 0.32982782]\n",
      " [ 0.00608358]\n",
      " [ 0.07052915]\n",
      " [-0.87988573]\n",
      " [-0.8634251 ]]\n"
     ]
    }
   ],
   "source": [
    "# Let's implement Mini-Batch Gradient Descent\n",
    "\n",
    "tf.reset_default_graph()\n",
    "\n",
    "from sklearn.preprocessing import StandardScaler\n",
    "\n",
    "scaler = StandardScaler()\n",
    "scaled_housing_data = scaler.fit_transform(housing.data)\n",
    "scaled_housing_data_plus_bias = np.c_[np.ones((m, 1)), scaled_housing_data]\n",
    "\n",
    "n_epochs = 1000\n",
    "learning_rate = 0.01\n",
    "\n",
    "# Change the definition of X and y in construction phase to make them placeholder nodes:\n",
    "X = tf.placeholder(tf.float32, shape=(None, n + 1), name=\"X\")\n",
    "y = tf.placeholder(tf.float32, shape=(None, 1), name=\"y\")\n",
    "\n",
    "# Define the batch size and compute the total number of batches:\n",
    "batch_size = 100\n",
    "n_batches = int(np.ceil(m / batch_size))\n",
    "\n",
    "theta = tf.Variable(tf.random_uniform([n + 1, 1], -1.0, 1.0, seed=42), name=\"theta\")\n",
    "y_pred = tf.matmul(X, theta, name=\"predictions\")\n",
    "error = y_pred - y\n",
    "mse = tf.reduce_mean(tf.square(error), name=\"mse\")\n",
    "optimizer = tf.train.GradientDescentOptimizer(learning_rate=learning_rate)\n",
    "training_op = optimizer.minimize(mse)\n",
    "\n",
    "init = tf.global_variables_initializer()\n",
    "\n",
    "def fetch_batch(epoch, batch_index, batch_size):\n",
    "  np.random.seed(epoch * n_batches + batch_index)\n",
    "  indices = np.random.randint(m, size=batch_size)\n",
    "  X_batch = scaled_housing_data_plus_bias[indices]\n",
    "  y_batch = housing.target.reshape(-1, 1)[indices]\n",
    "  return (X_batch, y_batch)\n",
    "\n",
    "with tf.Session() as sess:\n",
    "  sess.run(init)\n",
    "\n",
    "  for epoch in range(n_epochs):\n",
    "    for batch_index in range(n_batches):\n",
    "      X_batch, y_batch = fetch_batch(epoch, batch_index, batch_size)\n",
    "      sess.run(training_op, feed_dict={X: X_batch, y: y_batch})\n",
    "  \n",
    "  best_theta = theta.eval()\n",
    "\n",
    "print(best_theta)"
   ]
  },
  {
   "cell_type": "markdown",
   "metadata": {
    "colab_type": "text",
    "id": "awMjFm5Yr7Vd"
   },
   "source": [
    "# Saving and Restoring Models"
   ]
  },
  {
   "cell_type": "code",
   "execution_count": 18,
   "metadata": {
    "colab": {},
    "colab_type": "code",
    "id": "VR_EECY_pSbJ"
   },
   "outputs": [
    {
     "name": "stdout",
     "output_type": "stream",
     "text": [
      "[[ 2.0714476 ]\n",
      " [ 0.8462012 ]\n",
      " [ 0.11558535]\n",
      " [-0.26835832]\n",
      " [ 0.32982782]\n",
      " [ 0.00608358]\n",
      " [ 0.07052915]\n",
      " [-0.87988573]\n",
      " [-0.8634251 ]]\n"
     ]
    }
   ],
   "source": [
    "# TensorFlow makes saving and restoring a model very easy. Just create a Saver node at the end of the construction\n",
    "# phase; then, in the execution phase, just call its save() method whenever you want to save the model, passing it\n",
    "# the session and path of the checkpoint file.\n",
    "\n",
    "tf.reset_default_graph()\n",
    "\n",
    "from sklearn.preprocessing import StandardScaler\n",
    "\n",
    "scaler = StandardScaler()\n",
    "scaled_housing_data = scaler.fit_transform(housing.data)\n",
    "scaled_housing_data_plus_bias = np.c_[np.ones((m, 1)), scaled_housing_data]\n",
    "\n",
    "n_epochs = 1000\n",
    "learning_rate = 0.01\n",
    "\n",
    "# Change the definition of X and y in construction phase to make them placeholder nodes:\n",
    "X = tf.placeholder(tf.float32, shape=(None, n + 1), name=\"X\")\n",
    "y = tf.placeholder(tf.float32, shape=(None, 1), name=\"y\")\n",
    "\n",
    "# Define the batch size and compute the total number of batches:\n",
    "batch_size = 100\n",
    "n_batches = int(np.ceil(m / batch_size))\n",
    "\n",
    "theta = tf.Variable(tf.random_uniform([n + 1, 1], -1.0, 1.0, seed=42), name=\"theta\")\n",
    "y_pred = tf.matmul(X, theta, name=\"predictions\")\n",
    "error = y_pred - y\n",
    "mse = tf.reduce_mean(tf.square(error), name=\"mse\")\n",
    "optimizer = tf.train.GradientDescentOptimizer(learning_rate=learning_rate)\n",
    "training_op = optimizer.minimize(mse)\n",
    "\n",
    "init = tf.global_variables_initializer()\n",
    "saver = tf.train.Saver()\n",
    "\n",
    "def fetch_batch(epoch, batch_index, batch_size):\n",
    "  np.random.seed(epoch * n_batches + batch_index)\n",
    "  indices = np.random.randint(m, size=batch_size)\n",
    "  X_batch = scaled_housing_data_plus_bias[indices]\n",
    "  y_batch = housing.target.reshape(-1, 1)[indices]\n",
    "  return (X_batch, y_batch)\n",
    "\n",
    "with tf.Session() as sess:\n",
    "  sess.run(init)\n",
    "\n",
    "  for epoch in range(n_epochs):\n",
    "    if epoch % 100 == 0:\n",
    "      save_path = saver.save(sess, \"/tmp/my_model.ckpt\")\n",
    "    for batch_index in range(n_batches):\n",
    "      X_batch, y_batch = fetch_batch(epoch, batch_index, batch_size)\n",
    "      sess.run(training_op, feed_dict={X: X_batch, y: y_batch})\n",
    "    \n",
    "    if epoch % 100 == 0:\n",
    "      save_path = saver.save(sess, \"/tmp/my_model.ckpt\")\n",
    "  \n",
    "  best_theta = theta.eval()\n",
    "  save_path = saver.save(sess, \"/tmp/my_model_final.ckpt\")\n",
    "print(best_theta)"
   ]
  },
  {
   "cell_type": "code",
   "execution_count": 19,
   "metadata": {
    "colab": {},
    "colab_type": "code",
    "id": "clO0y611uOLe"
   },
   "outputs": [
    {
     "name": "stdout",
     "output_type": "stream",
     "text": [
      "WARNING:tensorflow:From /home/caesar/anaconda3/lib/python3.7/site-packages/tensorflow/python/training/saver.py:1276: checkpoint_exists (from tensorflow.python.training.checkpoint_management) is deprecated and will be removed in a future version.\n",
      "Instructions for updating:\n",
      "Use standard file APIs to check for files with this prefix.\n",
      "INFO:tensorflow:Restoring parameters from /tmp/my_model_final.ckpt\n",
      "[[ 2.0714476 ]\n",
      " [ 0.8462012 ]\n",
      " [ 0.11558535]\n",
      " [-0.26835832]\n",
      " [ 0.32982782]\n",
      " [ 0.00608358]\n",
      " [ 0.07052915]\n",
      " [-0.87988573]\n",
      " [-0.8634251 ]]\n"
     ]
    }
   ],
   "source": [
    "# Now to restore a model at the beginning of the execution phase instead of initializing the vairables using the \n",
    "# init node, you call the restore() method of the Saver object:\n",
    "\n",
    "with tf.Session() as sess:\n",
    "  saver.restore(sess, \"/tmp/my_model_final.ckpt\")\n",
    "  best_theta = theta.eval()\n",
    "print(best_theta)"
   ]
  },
  {
   "cell_type": "markdown",
   "metadata": {
    "colab_type": "text",
    "id": "b45gBw50wksQ"
   },
   "source": [
    "By default, the save() method also saves the structure of the graph in a second file with the same name plus a .meta extension. You can load this graph using `tf.train.import_meta_graph()`. This adds the graph to the default graph. \n",
    "\n",
    "---\n",
    "\n",
    "By default, the `Saver` saves and restores all variables under their own name, but if you need more control, you can specify which variables to save or restore, and names to use. For example, the following `Saver` will save or restore only the theta variable under the name `weights`:\n",
    "\n",
    "> saver = tf.train.Saver({\"weights\": theta})\n",
    "\n",
    "\n",
    "\n"
   ]
  },
  {
   "cell_type": "markdown",
   "metadata": {
    "colab_type": "text",
    "id": "ONAZFtOEeDcU"
   },
   "source": [
    "# Visualizing the Graph and Training Curves Using TensorBoard"
   ]
  },
  {
   "cell_type": "code",
   "execution_count": 20,
   "metadata": {
    "colab": {},
    "colab_type": "code",
    "id": "_v9JLAdIeA7Q"
   },
   "outputs": [
    {
     "name": "stdout",
     "output_type": "stream",
     "text": [
      "[[ 2.0714476 ]\n",
      " [ 0.8462012 ]\n",
      " [ 0.11558535]\n",
      " [-0.26835832]\n",
      " [ 0.32982782]\n",
      " [ 0.00608358]\n",
      " [ 0.07052915]\n",
      " [-0.87988573]\n",
      " [-0.8634251 ]]\n"
     ]
    }
   ],
   "source": [
    "# TensorBoard display nice visualizations of stats in your web browser (e.g, learning curves). Youc an also \n",
    "# provide it the graph's definition and it will give you a great interface to browse through it. This is very \n",
    "# useful to identify errors in the graph, to find bottlenecks, and so on. You need to write the training error \n",
    "# (MSE) to a log directory that TensorBoard will read from.\n",
    "\n",
    "tf.reset_default_graph()\n",
    "\n",
    "from sklearn.preprocessing import StandardScaler\n",
    "from datetime import datetime\n",
    "\n",
    "now = datetime.utcnow().strftime(\"%Y%m%d%H%M%S\")\n",
    "root_logdir = \"tf_logs\"\n",
    "logdir = \"{}/run-{}\".format(root_logdir, now)\n",
    "\n",
    "scaler = StandardScaler()\n",
    "scaled_housing_data = scaler.fit_transform(housing.data)\n",
    "scaled_housing_data_plus_bias = np.c_[np.ones((m, 1)), scaled_housing_data]\n",
    "\n",
    "n_epochs = 1000\n",
    "learning_rate = 0.01\n",
    "\n",
    "# Change the definition of X and y in construction phase to make them placeholder nodes:\n",
    "X = tf.placeholder(tf.float32, shape=(None, n + 1), name=\"X\")\n",
    "y = tf.placeholder(tf.float32, shape=(None, 1), name=\"y\")\n",
    "\n",
    "# Define the batch size and compute the total number of batches:\n",
    "batch_size = 100\n",
    "n_batches = int(np.ceil(m / batch_size))\n",
    "\n",
    "theta = tf.Variable(tf.random_uniform([n + 1, 1], -1.0, 1.0, seed=42), name=\"theta\")\n",
    "y_pred = tf.matmul(X, theta, name=\"predictions\")\n",
    "error = y_pred - y\n",
    "mse = tf.reduce_mean(tf.square(error), name=\"mse\")\n",
    "optimizer = tf.train.GradientDescentOptimizer(learning_rate=learning_rate)\n",
    "training_op = optimizer.minimize(mse)\n",
    "\n",
    "init = tf.global_variables_initializer()\n",
    "saver = tf.train.Saver()\n",
    "\n",
    "# This line creates a node in the graph that will evaluate the MSE value and write it to a TensorBoard-compatible binary log string called a summary.\n",
    "mse_summary = tf.summary.scalar(\"MSE\", mse)\n",
    "\n",
    "# This line createa a FileWriter that you will use to write summaries to logfiles in the log directory. \n",
    "file_writer = tf.summary.FileWriter(logdir, tf.get_default_graph())\n",
    "\n",
    "\n",
    "def fetch_batch(epoch, batch_index, batch_size):\n",
    "  np.random.seed(epoch * n_batches + batch_index)\n",
    "  indices = np.random.randint(m, size=batch_size)\n",
    "  X_batch = scaled_housing_data_plus_bias[indices]\n",
    "  y_batch = housing.target.reshape(-1, 1)[indices]\n",
    "  return (X_batch, y_batch)\n",
    "\n",
    "with tf.Session() as sess:\n",
    "  sess.run(init)\n",
    "\n",
    "  for epoch in range(n_epochs):\n",
    "    if epoch % 100 == 0:\n",
    "      save_path = saver.save(sess, \"/tmp/my_model.ckpt\")\n",
    "    for batch_index in range(n_batches):\n",
    "      X_batch, y_batch = fetch_batch(epoch, batch_index, batch_size)\n",
    "      \n",
    "      # Update the execution phase to evaluate the mse_summary node regularly during training (e.g., every 10 mini-batches).\n",
    "      if batch_index % 10 == 0:\n",
    "        summary_str = mse_summary.eval(feed_dict= {X: X_batch, y: y_batch})\n",
    "        step = epoch * n_batches + batch_index\n",
    "        file_writer.add_summary(summary_str, step)\n",
    "      sess.run(training_op, feed_dict={X: X_batch, y: y_batch})\n",
    "  \n",
    "  best_theta = theta.eval()\n",
    "  save_path = saver.save(sess, \"/tmp/my_model_final.ckpt\")\n",
    "  file_writer.close()\n",
    "print(best_theta)"
   ]
  },
  {
   "cell_type": "code",
   "execution_count": 22,
   "metadata": {},
   "outputs": [
    {
     "data": {
      "text/html": [
       "\n",
       "        <iframe\n",
       "            width=\"100%\"\n",
       "            height=\"800\"\n",
       "            src=\"http://localhost:6008\"\n",
       "            frameborder=\"0\"\n",
       "            allowfullscreen\n",
       "        ></iframe>\n",
       "        "
      ],
      "text/plain": [
       "<IPython.lib.display.IFrame at 0x7fe815216dd0>"
      ]
     },
     "metadata": {},
     "output_type": "display_data"
    }
   ],
   "source": [
    "%load_ext tensorboard\n",
    "%tensorboard --logdir tf_logs/"
   ]
  },
  {
   "cell_type": "markdown",
   "metadata": {},
   "source": [
    "# Name Scopes"
   ]
  },
  {
   "cell_type": "code",
   "execution_count": 23,
   "metadata": {},
   "outputs": [
    {
     "name": "stdout",
     "output_type": "stream",
     "text": [
      "[[ 2.0714476 ]\n",
      " [ 0.8462012 ]\n",
      " [ 0.11558535]\n",
      " [-0.26835832]\n",
      " [ 0.32982782]\n",
      " [ 0.00608358]\n",
      " [ 0.07052915]\n",
      " [-0.87988573]\n",
      " [-0.8634251 ]]\n"
     ]
    }
   ],
   "source": [
    "# When dealing wiht more complex models such as neural networks, the computation graph can easily become cluttered\n",
    "# with thousands of nodes. To avoid this, you can create name scopes to group related nodes. For example, let's\n",
    "# modify the previous code to define the error and mse ops within a name scope called \"loss\"\n",
    "\n",
    "# TensorBoard display nice visualizations of stats in your web browser (e.g, learning curves). Youc an also \n",
    "# provide it the graph's definition and it will give you a great interface to browse through it. This is very \n",
    "# useful to identify errors in the graph, to find bottlenecks, and so on. You need to write the training error \n",
    "# (MSE) to a log directory that TensorBoard will read from.\n",
    "\n",
    "tf.reset_default_graph()\n",
    "\n",
    "from sklearn.preprocessing import StandardScaler\n",
    "from datetime import datetime\n",
    "\n",
    "now = datetime.utcnow().strftime(\"%Y%m%d%H%M%S\")\n",
    "root_logdir = \"tf_logs\"\n",
    "logdir = \"{}/run-{}\".format(root_logdir, now)\n",
    "\n",
    "scaler = StandardScaler()\n",
    "scaled_housing_data = scaler.fit_transform(housing.data)\n",
    "scaled_housing_data_plus_bias = np.c_[np.ones((m, 1)), scaled_housing_data]\n",
    "\n",
    "n_epochs = 1000\n",
    "learning_rate = 0.01\n",
    "\n",
    "# Change the definition of X and y in construction phase to make them placeholder nodes:\n",
    "X = tf.placeholder(tf.float32, shape=(None, n + 1), name=\"X\")\n",
    "y = tf.placeholder(tf.float32, shape=(None, 1), name=\"y\")\n",
    "\n",
    "# Define the batch size and compute the total number of batches:\n",
    "batch_size = 100\n",
    "n_batches = int(np.ceil(m / batch_size))\n",
    "\n",
    "theta = tf.Variable(tf.random_uniform([n + 1, 1], -1.0, 1.0, seed=42), name=\"theta\")\n",
    "y_pred = tf.matmul(X, theta, name=\"predictions\")\n",
    "\n",
    "# Define the error and mse ops within a name scope called \"loss\"\n",
    "with tf.name_scope(\"loss\") as scope:\n",
    "    error = y_pred - y\n",
    "    mse = tf.reduce_mean(tf.square(error), name=\"mse\")\n",
    "\n",
    "optimizer = tf.train.GradientDescentOptimizer(learning_rate=learning_rate)\n",
    "training_op = optimizer.minimize(mse)\n",
    "\n",
    "init = tf.global_variables_initializer()\n",
    "saver = tf.train.Saver()\n",
    "\n",
    "# This line creates a node in the graph that will evaluate the MSE value and write it to a TensorBoard-compatible \n",
    "# binary log string called a summary.\n",
    "mse_summary = tf.summary.scalar(\"MSE\", mse)\n",
    "\n",
    "# This line createa a FileWriter that you will use to write summaries to logfiles in the log directory. \n",
    "file_writer = tf.summary.FileWriter(logdir, tf.get_default_graph())\n",
    "\n",
    "\n",
    "def fetch_batch(epoch, batch_index, batch_size):\n",
    "  np.random.seed(epoch * n_batches + batch_index)\n",
    "  indices = np.random.randint(m, size=batch_size)\n",
    "  X_batch = scaled_housing_data_plus_bias[indices]\n",
    "  y_batch = housing.target.reshape(-1, 1)[indices]\n",
    "  return (X_batch, y_batch)\n",
    "\n",
    "with tf.Session() as sess:\n",
    "  sess.run(init)\n",
    "\n",
    "  for epoch in range(n_epochs):\n",
    "    if epoch % 100 == 0:\n",
    "      save_path = saver.save(sess, \"/tmp/my_model.ckpt\")\n",
    "    for batch_index in range(n_batches):\n",
    "      X_batch, y_batch = fetch_batch(epoch, batch_index, batch_size)\n",
    "      \n",
    "      # Update the execution phase to evaluate the mse_summary node regularly during training (e.g., every 10 mini-batches).\n",
    "      if batch_index % 10 == 0:\n",
    "        summary_str = mse_summary.eval(feed_dict= {X: X_batch, y: y_batch})\n",
    "        step = epoch * n_batches + batch_index\n",
    "        file_writer.add_summary(summary_str, step)\n",
    "      sess.run(training_op, feed_dict={X: X_batch, y: y_batch})\n",
    "  \n",
    "  best_theta = theta.eval()\n",
    "  save_path = saver.save(sess, \"/tmp/my_model_final.ckpt\")\n",
    "  file_writer.close()\n",
    "print(best_theta)"
   ]
  },
  {
   "cell_type": "code",
   "execution_count": 24,
   "metadata": {},
   "outputs": [
    {
     "name": "stdout",
     "output_type": "stream",
     "text": [
      "loss/sub\n",
      "loss/mse\n"
     ]
    }
   ],
   "source": [
    "# The name of each op defined within the scope is now prefixed with \"loss/\"\n",
    "print(error.op.name)\n",
    "print(mse.op.name)"
   ]
  },
  {
   "cell_type": "code",
   "execution_count": 25,
   "metadata": {},
   "outputs": [
    {
     "data": {
      "text/plain": [
       "Reusing TensorBoard on port 6008 (pid 17610), started 0:01:42 ago. (Use '!kill 17610' to kill it.)"
      ]
     },
     "metadata": {},
     "output_type": "display_data"
    },
    {
     "data": {
      "text/html": [
       "\n",
       "        <iframe\n",
       "            width=\"100%\"\n",
       "            height=\"800\"\n",
       "            src=\"http://localhost:6008\"\n",
       "            frameborder=\"0\"\n",
       "            allowfullscreen\n",
       "        ></iframe>\n",
       "        "
      ],
      "text/plain": [
       "<IPython.lib.display.IFrame at 0x7fe815303ed0>"
      ]
     },
     "metadata": {},
     "output_type": "display_data"
    }
   ],
   "source": [
    "# In TensorBoard, the mse and error nodes now appear inside the loss namespace, which appears collapse by default\n",
    "%tensorboard --logdir tf_logs/"
   ]
  },
  {
   "cell_type": "markdown",
   "metadata": {},
   "source": [
    "# Modularity"
   ]
  },
  {
   "cell_type": "code",
   "execution_count": 26,
   "metadata": {},
   "outputs": [],
   "source": [
    "# Suppose you want to create a graph that adds the output of two rectified liear units (ReLU). A ReLU computes a \n",
    "# linear fucntion of the inputs, and outputs the result if it is positive, and 0 otherwise.\n",
    "# The following code do the job but its repetitive:\n",
    "\n",
    "n_features = 3\n",
    "X = tf.placeholder(tf.float32, shape=(None, n_features), name=\"X\")\n",
    "\n",
    "w1 = tf.Variable(tf.random_normal((n_features, 1)), name=\"weights1\")\n",
    "w2 = tf.Variable(tf.random_normal((n_features, 1)), name=\"weights2\")\n",
    "b1 = tf.Variable(0.0, name=\"bias1\")\n",
    "b2 = tf.Variable(0.0, name=\"bias2\")\n",
    "\n",
    "z1 = tf.add(tf.matmul(X, w1), b1, name=\"z1\")\n",
    "z2 = tf.add(tf.matmul(X, w2), b2, name=\"z2\")\n",
    "\n",
    "relu1 = tf.maximum(z1, 0., name=\"relu1\")\n",
    "relu2 = tf.maximum(z2, 0., name=\"relu2\")\n",
    "\n",
    "output = tf.add(relu1, relu2, name=\"output\")"
   ]
  },
  {
   "cell_type": "code",
   "execution_count": 27,
   "metadata": {},
   "outputs": [],
   "source": [
    "# Such repetitive code is hard to maintain and error-prone. TensorFlow lets you stay DRY (Don't Repeat Yourself):\n",
    "# simply create a function to build ReLu. The following code creates five ReLUs and outputs their sum:\n",
    "\n",
    "tf.reset_default_graph()\n",
    "def relu(X):\n",
    "    w_shape = (int(X.get_shape()[1]), 1)\n",
    "    w = tf.Variable(tf.random_normal(w_shape), name=\"weights\")\n",
    "    b = tf.Variable(0.0, name=\"bias\")\n",
    "    z = tf.add(tf.matmul(X, w), b, name=\"z\")\n",
    "    return tf.maximum(z, 0., name=\"relu\")\n",
    "\n",
    "n_features = 3\n",
    "X = tf.placeholder(tf.float32, shape=(None, n_features), name=\"X\")\n",
    "relus = [relu(X) for i in range(5)]\n",
    "output = tf.add_n(relus, name=\"output\")\n",
    "\n",
    "file_writer = tf.summary.FileWriter(\"logs/relu1\", tf.get_default_graph())\n",
    "# add_n() creates an operation that will compute the sum of a list of tensors"
   ]
  },
  {
   "cell_type": "markdown",
   "metadata": {},
   "source": [
    "**Note:** TensorFlow checks whether its name already exists, and if it does it appends an underscore followed by\n",
    "an index to make the name unique"
   ]
  },
  {
   "cell_type": "code",
   "execution_count": 28,
   "metadata": {},
   "outputs": [
    {
     "data": {
      "text/html": [
       "\n",
       "        <iframe\n",
       "            width=\"100%\"\n",
       "            height=\"800\"\n",
       "            src=\"http://localhost:6009\"\n",
       "            frameborder=\"0\"\n",
       "            allowfullscreen\n",
       "        ></iframe>\n",
       "        "
      ],
      "text/plain": [
       "<IPython.lib.display.IFrame at 0x7fe81507ff90>"
      ]
     },
     "metadata": {},
     "output_type": "display_data"
    }
   ],
   "source": [
    "%tensorboard --logdir logs/"
   ]
  },
  {
   "cell_type": "code",
   "execution_count": 29,
   "metadata": {},
   "outputs": [],
   "source": [
    "# Using name scopes, you can make the graph much clearer. \n",
    "\n",
    "tf.reset_default_graph()\n",
    "def relu(X):\n",
    "    with tf.name_scope(\"relu\"):\n",
    "        w_shape = (int(X.get_shape()[1]), 1)\n",
    "        w = tf.Variable(tf.random_normal(w_shape), name=\"weights\")\n",
    "        b = tf.Variable(0.0, name=\"bias\")\n",
    "        z = tf.add(tf.matmul(X, w), b, name=\"z\")\n",
    "        return tf.maximum(z, 0., name=\"relu\")\n",
    "\n",
    "n_features = 3\n",
    "X = tf.placeholder(tf.float32, shape=(None, n_features), name=\"X\")\n",
    "relus = [relu(X) for i in range(5)]\n",
    "output = tf.add_n(relus, name=\"output\")\n",
    "\n",
    "file_writer = tf.summary.FileWriter(\"logs/relu2\", tf.get_default_graph())"
   ]
  },
  {
   "cell_type": "code",
   "execution_count": 30,
   "metadata": {},
   "outputs": [
    {
     "data": {
      "text/plain": [
       "Reusing TensorBoard on port 6009 (pid 17782), started 0:00:00 ago. (Use '!kill 17782' to kill it.)"
      ]
     },
     "metadata": {},
     "output_type": "display_data"
    },
    {
     "data": {
      "text/html": [
       "\n",
       "        <iframe\n",
       "            width=\"100%\"\n",
       "            height=\"800\"\n",
       "            src=\"http://localhost:6009\"\n",
       "            frameborder=\"0\"\n",
       "            allowfullscreen\n",
       "        ></iframe>\n",
       "        "
      ],
      "text/plain": [
       "<IPython.lib.display.IFrame at 0x7fe815344310>"
      ]
     },
     "metadata": {},
     "output_type": "display_data"
    }
   ],
   "source": [
    "%tensorboard --logdir logs/"
   ]
  },
  {
   "cell_type": "markdown",
   "metadata": {},
   "source": [
    "# Sharing Variables"
   ]
  },
  {
   "cell_type": "code",
   "execution_count": 31,
   "metadata": {},
   "outputs": [],
   "source": [
    "# Suppose you want to control the ReLU threshold for all the ReLUs using a shared threshold variable for all ReLUs.\n",
    "# The following code first defines the relu() function, then creates the relu/threshold variable (as a scalar that\n",
    "# will later be initialized to 0.0) and builds five ReLUs by calling the relu() function. The relu() function \n",
    "# reuses the relu/threshold variable, and creates the other ReLU nodes.\n",
    "\n",
    "tf.reset_default_graph()\n",
    "def relu(X):\n",
    "    with tf.variable_scope(\"relu\", reuse=True):\n",
    "        threshold = tf.get_variable(\"threshold\")    # reuse existing variable\n",
    "        w_shape = (int(X.get_shape()[1]), 1)\n",
    "        w = tf.Variable(tf.random_normal(w_shape), name=\"weights\")\n",
    "        b = tf.Variable(0.0, name=\"bias\")\n",
    "        z = tf.add(tf.matmul(X, w), b, name=\"z\")\n",
    "        return tf.maximum(z, threshold, name=\"relu\")\n",
    "\n",
    "n_features = 3\n",
    "X = tf.placeholder(tf.float32, shape=(None, n_features), name=\"X\")\n",
    "with tf.variable_scope(\"relu\"):\n",
    "    threshold = tf.get_variable(\"threshold\", shape=(),\n",
    "                               initializer=tf.constant_initializer(0.0))\n",
    "relus = [relu(X) for i in range(5)]\n",
    "output = tf.add_n(relus, name=\"output\")\n",
    "\n",
    "file_writer = tf.summary.FileWriter(\"logs/relu3\", tf.get_default_graph())"
   ]
  },
  {
   "cell_type": "code",
   "execution_count": 32,
   "metadata": {},
   "outputs": [
    {
     "data": {
      "text/plain": [
       "Reusing TensorBoard on port 6009 (pid 17782), started 0:00:00 ago. (Use '!kill 17782' to kill it.)"
      ]
     },
     "metadata": {},
     "output_type": "display_data"
    },
    {
     "data": {
      "text/html": [
       "\n",
       "        <iframe\n",
       "            width=\"100%\"\n",
       "            height=\"800\"\n",
       "            src=\"http://localhost:6009\"\n",
       "            frameborder=\"0\"\n",
       "            allowfullscreen\n",
       "        ></iframe>\n",
       "        "
      ],
      "text/plain": [
       "<IPython.lib.display.IFrame at 0x7fe8159515d0>"
      ]
     },
     "metadata": {},
     "output_type": "display_data"
    }
   ],
   "source": [
    "%tensorboard --logdir logs/"
   ]
  },
  {
   "cell_type": "code",
   "execution_count": 37,
   "metadata": {},
   "outputs": [],
   "source": [
    "# It is somewhat unfortunate that the threshold variable must be defined outside the relu() function, where all the\n",
    "# rest of the ReLU code resides. To fix this, the following ccode creates the threshold variable wihtin the relu()\n",
    "# function upon the first call, then reuses it in subsequent calls. \n",
    "# Now the relu() function does not have to worry about name scopes or variable sharing: it just calls \n",
    "# get_variable(), which will create or reuse the threshold variable. The rest of the code calls relu() five times,\n",
    "# making sure to set reuse=False on the first call, and reuse=True for the other calls.\n",
    "\n",
    "tf.reset_default_graph()\n",
    "def relu(X):\n",
    "    threshold = tf.get_variable(\"threshold\", shape=(),\n",
    "                               initializer=tf.constant_initializer(0.0))   \n",
    "    w_shape = (int(X.get_shape()[1]), 1)\n",
    "    w = tf.Variable(tf.random_normal(w_shape), name=\"weights\")\n",
    "    b = tf.Variable(0.0, name=\"bias\")\n",
    "    z = tf.add(tf.matmul(X, w), b, name=\"z\")\n",
    "    return tf.maximum(z, threshold, name=\"relu\")\n",
    "\n",
    "n_features = 3\n",
    "X = tf.placeholder(tf.float32, shape=(None, n_features), name=\"X\")\n",
    "relus = []\n",
    "for relu_index in range(5):\n",
    "    with tf.variable_scope(\"relu\", reuse=(relu_index >= 1)) as scope:\n",
    "        relus.append(relu(X))\n",
    "output = tf.add_n(relus, name=\"output\")\n",
    "\n",
    "file_writer = tf.summary.FileWriter(\"logs/relu4\", tf.get_default_graph())\n",
    "file_writer.close()"
   ]
  },
  {
   "cell_type": "code",
   "execution_count": 38,
   "metadata": {},
   "outputs": [
    {
     "data": {
      "text/plain": [
       "Reusing TensorBoard on port 6009 (pid 17782), started 0:04:09 ago. (Use '!kill 17782' to kill it.)"
      ]
     },
     "metadata": {},
     "output_type": "display_data"
    },
    {
     "data": {
      "text/html": [
       "\n",
       "        <iframe\n",
       "            width=\"100%\"\n",
       "            height=\"800\"\n",
       "            src=\"http://localhost:6009\"\n",
       "            frameborder=\"0\"\n",
       "            allowfullscreen\n",
       "        ></iframe>\n",
       "        "
      ],
      "text/plain": [
       "<IPython.lib.display.IFrame at 0x7fe814dc7c50>"
      ]
     },
     "metadata": {},
     "output_type": "display_data"
    }
   ],
   "source": [
    "%tensorboard --logdir logs/"
   ]
  },
  {
   "cell_type": "code",
   "execution_count": null,
   "metadata": {},
   "outputs": [],
   "source": []
  }
 ],
 "metadata": {
  "colab": {
   "collapsed_sections": [
    "78wtGSinCMu1",
    "rabMUOVb_e2H",
    "Fq1rhi7TARD7",
    "dWrke8SdB_5C",
    "cQSRL4l2H_Mt",
    "96LE5eP2MJ9C",
    "91BQGrPqT3d-"
   ],
   "name": "chapter_9.ipynb",
   "provenance": []
  },
  "kernelspec": {
   "display_name": "Python 3",
   "language": "python",
   "name": "python3"
  },
  "language_info": {
   "codemirror_mode": {
    "name": "ipython",
    "version": 3
   },
   "file_extension": ".py",
   "mimetype": "text/x-python",
   "name": "python",
   "nbconvert_exporter": "python",
   "pygments_lexer": "ipython3",
   "version": "3.7.6"
  }
 },
 "nbformat": 4,
 "nbformat_minor": 1
}
