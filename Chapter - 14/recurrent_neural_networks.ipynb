{
  "nbformat": 4,
  "nbformat_minor": 0,
  "metadata": {
    "colab": {
      "name": "recurrent_neural_networks",
      "provenance": [],
      "collapsed_sections": []
    },
    "kernelspec": {
      "name": "python3",
      "display_name": "Python 3"
    }
  },
  "cells": [
    {
      "cell_type": "code",
      "metadata": {
        "id": "9vCg7LLGsau8",
        "colab_type": "code",
        "outputId": "eeee0891-1851-430b-d938-106b255a60fb",
        "colab": {
          "base_uri": "https://localhost:8080/",
          "height": 1000
        }
      },
      "source": [
        "# Import the TensorFlow and output the verion\n",
        "\n",
        "!pip install tensorflow==1.14.0\n",
        "import tensorflow as tf\n",
        "print(\"\\n\\nTensorFlow version:\", tf.__version__)"
      ],
      "execution_count": 2,
      "outputs": [
        {
          "output_type": "stream",
          "text": [
            "Collecting tensorflow==1.14.0\n",
            "\u001b[?25l  Downloading https://files.pythonhosted.org/packages/de/f0/96fb2e0412ae9692dbf400e5b04432885f677ad6241c088ccc5fe7724d69/tensorflow-1.14.0-cp36-cp36m-manylinux1_x86_64.whl (109.2MB)\n",
            "\u001b[K     |████████████████████████████████| 109.2MB 67kB/s \n",
            "\u001b[?25hRequirement already satisfied: numpy<2.0,>=1.14.5 in /usr/local/lib/python3.6/dist-packages (from tensorflow==1.14.0) (1.18.4)\n",
            "Requirement already satisfied: grpcio>=1.8.6 in /usr/local/lib/python3.6/dist-packages (from tensorflow==1.14.0) (1.29.0)\n",
            "Requirement already satisfied: keras-preprocessing>=1.0.5 in /usr/local/lib/python3.6/dist-packages (from tensorflow==1.14.0) (1.1.2)\n",
            "Requirement already satisfied: wrapt>=1.11.1 in /usr/local/lib/python3.6/dist-packages (from tensorflow==1.14.0) (1.12.1)\n",
            "Requirement already satisfied: protobuf>=3.6.1 in /usr/local/lib/python3.6/dist-packages (from tensorflow==1.14.0) (3.10.0)\n",
            "Requirement already satisfied: termcolor>=1.1.0 in /usr/local/lib/python3.6/dist-packages (from tensorflow==1.14.0) (1.1.0)\n",
            "Requirement already satisfied: keras-applications>=1.0.6 in /usr/local/lib/python3.6/dist-packages (from tensorflow==1.14.0) (1.0.8)\n",
            "Requirement already satisfied: astor>=0.6.0 in /usr/local/lib/python3.6/dist-packages (from tensorflow==1.14.0) (0.8.1)\n",
            "Requirement already satisfied: six>=1.10.0 in /usr/local/lib/python3.6/dist-packages (from tensorflow==1.14.0) (1.12.0)\n",
            "Collecting tensorflow-estimator<1.15.0rc0,>=1.14.0rc0\n",
            "\u001b[?25l  Downloading https://files.pythonhosted.org/packages/3c/d5/21860a5b11caf0678fbc8319341b0ae21a07156911132e0e71bffed0510d/tensorflow_estimator-1.14.0-py2.py3-none-any.whl (488kB)\n",
            "\u001b[K     |████████████████████████████████| 491kB 36.8MB/s \n",
            "\u001b[?25hRequirement already satisfied: google-pasta>=0.1.6 in /usr/local/lib/python3.6/dist-packages (from tensorflow==1.14.0) (0.2.0)\n",
            "Requirement already satisfied: wheel>=0.26 in /usr/local/lib/python3.6/dist-packages (from tensorflow==1.14.0) (0.34.2)\n",
            "Requirement already satisfied: absl-py>=0.7.0 in /usr/local/lib/python3.6/dist-packages (from tensorflow==1.14.0) (0.9.0)\n",
            "Requirement already satisfied: gast>=0.2.0 in /usr/local/lib/python3.6/dist-packages (from tensorflow==1.14.0) (0.3.3)\n",
            "Collecting tensorboard<1.15.0,>=1.14.0\n",
            "\u001b[?25l  Downloading https://files.pythonhosted.org/packages/91/2d/2ed263449a078cd9c8a9ba50ebd50123adf1f8cfbea1492f9084169b89d9/tensorboard-1.14.0-py3-none-any.whl (3.1MB)\n",
            "\u001b[K     |████████████████████████████████| 3.2MB 40.9MB/s \n",
            "\u001b[?25hRequirement already satisfied: setuptools in /usr/local/lib/python3.6/dist-packages (from protobuf>=3.6.1->tensorflow==1.14.0) (46.4.0)\n",
            "Requirement already satisfied: h5py in /usr/local/lib/python3.6/dist-packages (from keras-applications>=1.0.6->tensorflow==1.14.0) (2.10.0)\n",
            "Requirement already satisfied: werkzeug>=0.11.15 in /usr/local/lib/python3.6/dist-packages (from tensorboard<1.15.0,>=1.14.0->tensorflow==1.14.0) (1.0.1)\n",
            "Requirement already satisfied: markdown>=2.6.8 in /usr/local/lib/python3.6/dist-packages (from tensorboard<1.15.0,>=1.14.0->tensorflow==1.14.0) (3.2.2)\n",
            "Requirement already satisfied: importlib-metadata; python_version < \"3.8\" in /usr/local/lib/python3.6/dist-packages (from markdown>=2.6.8->tensorboard<1.15.0,>=1.14.0->tensorflow==1.14.0) (1.6.0)\n",
            "Requirement already satisfied: zipp>=0.5 in /usr/local/lib/python3.6/dist-packages (from importlib-metadata; python_version < \"3.8\"->markdown>=2.6.8->tensorboard<1.15.0,>=1.14.0->tensorflow==1.14.0) (3.1.0)\n",
            "Installing collected packages: tensorflow-estimator, tensorboard, tensorflow\n",
            "  Found existing installation: tensorflow-estimator 2.2.0\n",
            "    Uninstalling tensorflow-estimator-2.2.0:\n",
            "      Successfully uninstalled tensorflow-estimator-2.2.0\n",
            "  Found existing installation: tensorboard 2.2.1\n",
            "    Uninstalling tensorboard-2.2.1:\n",
            "      Successfully uninstalled tensorboard-2.2.1\n",
            "  Found existing installation: tensorflow 2.2.0\n",
            "    Uninstalling tensorflow-2.2.0:\n",
            "      Successfully uninstalled tensorflow-2.2.0\n",
            "Successfully installed tensorboard-1.14.0 tensorflow-1.14.0 tensorflow-estimator-1.14.0\n"
          ],
          "name": "stdout"
        },
        {
          "output_type": "stream",
          "text": [
            "/usr/local/lib/python3.6/dist-packages/tensorflow/python/framework/dtypes.py:516: FutureWarning: Passing (type, 1) or '1type' as a synonym of type is deprecated; in a future version of numpy, it will be understood as (type, (1,)) / '(1,)type'.\n",
            "  _np_qint8 = np.dtype([(\"qint8\", np.int8, 1)])\n",
            "/usr/local/lib/python3.6/dist-packages/tensorflow/python/framework/dtypes.py:517: FutureWarning: Passing (type, 1) or '1type' as a synonym of type is deprecated; in a future version of numpy, it will be understood as (type, (1,)) / '(1,)type'.\n",
            "  _np_quint8 = np.dtype([(\"quint8\", np.uint8, 1)])\n",
            "/usr/local/lib/python3.6/dist-packages/tensorflow/python/framework/dtypes.py:518: FutureWarning: Passing (type, 1) or '1type' as a synonym of type is deprecated; in a future version of numpy, it will be understood as (type, (1,)) / '(1,)type'.\n",
            "  _np_qint16 = np.dtype([(\"qint16\", np.int16, 1)])\n",
            "/usr/local/lib/python3.6/dist-packages/tensorflow/python/framework/dtypes.py:519: FutureWarning: Passing (type, 1) or '1type' as a synonym of type is deprecated; in a future version of numpy, it will be understood as (type, (1,)) / '(1,)type'.\n",
            "  _np_quint16 = np.dtype([(\"quint16\", np.uint16, 1)])\n",
            "/usr/local/lib/python3.6/dist-packages/tensorflow/python/framework/dtypes.py:520: FutureWarning: Passing (type, 1) or '1type' as a synonym of type is deprecated; in a future version of numpy, it will be understood as (type, (1,)) / '(1,)type'.\n",
            "  _np_qint32 = np.dtype([(\"qint32\", np.int32, 1)])\n",
            "/usr/local/lib/python3.6/dist-packages/tensorflow/python/framework/dtypes.py:525: FutureWarning: Passing (type, 1) or '1type' as a synonym of type is deprecated; in a future version of numpy, it will be understood as (type, (1,)) / '(1,)type'.\n",
            "  np_resource = np.dtype([(\"resource\", np.ubyte, 1)])\n"
          ],
          "name": "stderr"
        },
        {
          "output_type": "stream",
          "text": [
            "\n",
            "\n",
            "TensorFlow version: 1.14.0\n"
          ],
          "name": "stdout"
        },
        {
          "output_type": "stream",
          "text": [
            "/usr/local/lib/python3.6/dist-packages/tensorboard/compat/tensorflow_stub/dtypes.py:541: FutureWarning: Passing (type, 1) or '1type' as a synonym of type is deprecated; in a future version of numpy, it will be understood as (type, (1,)) / '(1,)type'.\n",
            "  _np_qint8 = np.dtype([(\"qint8\", np.int8, 1)])\n",
            "/usr/local/lib/python3.6/dist-packages/tensorboard/compat/tensorflow_stub/dtypes.py:542: FutureWarning: Passing (type, 1) or '1type' as a synonym of type is deprecated; in a future version of numpy, it will be understood as (type, (1,)) / '(1,)type'.\n",
            "  _np_quint8 = np.dtype([(\"quint8\", np.uint8, 1)])\n",
            "/usr/local/lib/python3.6/dist-packages/tensorboard/compat/tensorflow_stub/dtypes.py:543: FutureWarning: Passing (type, 1) or '1type' as a synonym of type is deprecated; in a future version of numpy, it will be understood as (type, (1,)) / '(1,)type'.\n",
            "  _np_qint16 = np.dtype([(\"qint16\", np.int16, 1)])\n",
            "/usr/local/lib/python3.6/dist-packages/tensorboard/compat/tensorflow_stub/dtypes.py:544: FutureWarning: Passing (type, 1) or '1type' as a synonym of type is deprecated; in a future version of numpy, it will be understood as (type, (1,)) / '(1,)type'.\n",
            "  _np_quint16 = np.dtype([(\"quint16\", np.uint16, 1)])\n",
            "/usr/local/lib/python3.6/dist-packages/tensorboard/compat/tensorflow_stub/dtypes.py:545: FutureWarning: Passing (type, 1) or '1type' as a synonym of type is deprecated; in a future version of numpy, it will be understood as (type, (1,)) / '(1,)type'.\n",
            "  _np_qint32 = np.dtype([(\"qint32\", np.int32, 1)])\n",
            "/usr/local/lib/python3.6/dist-packages/tensorboard/compat/tensorflow_stub/dtypes.py:550: FutureWarning: Passing (type, 1) or '1type' as a synonym of type is deprecated; in a future version of numpy, it will be understood as (type, (1,)) / '(1,)type'.\n",
            "  np_resource = np.dtype([(\"resource\", np.ubyte, 1)])\n"
          ],
          "name": "stderr"
        }
      ]
    },
    {
      "cell_type": "markdown",
      "metadata": {
        "id": "C0NieANzOIEq",
        "colab_type": "text"
      },
      "source": [
        "# Basic RNNs in TensorFlow\n",
        "- First let's create a very simple RNN model, without using any of TensorFlow's RNN operations.\n",
        "- We will create an RNN composed of a layer of five recurrent neurons using the tanh activation function. We will assume that the RNN runs over only two timesteps, taking input vectors of size 3 at each time step.<br>\n",
        "- The following code builds this RNN, unrolled through two time steps:"
      ]
    },
    {
      "cell_type": "code",
      "metadata": {
        "id": "RYV-mgl8N_eo",
        "colab_type": "code",
        "colab": {}
      },
      "source": [
        "n_inputs = 3\n",
        "n_neurons = 5\n",
        "\n",
        "X0 = tf.placeholder(tf.float32, shape=(None, n_inputs))\n",
        "X1 = tf.placeholder(tf.float32, shape=(None, n_inputs))\n",
        "\n",
        "Wx = tf.Variable(tf.random_normal(shape=[n_inputs, n_neurons], dtype=tf.float32))\n",
        "Wy = tf.Variable(tf.random_normal(shape=[n_neurons, n_neurons], dtype=tf.float32))\n",
        "b = tf.Variable(tf.zeros([1, n_neurons], dtype=tf.float32))\n",
        "\n",
        "Y0 = tf.tanh(tf.matmul(X0, Wx) + b)\n",
        "Y1 = tf.tanh(tf.matmul(Y0, Wy) + tf.matmul(X1, Wx) + b)\n",
        "\n",
        "init = tf.global_variables_initializer()"
      ],
      "execution_count": 0,
      "outputs": []
    },
    {
      "cell_type": "code",
      "metadata": {
        "id": "0-CH4ARrP0Pk",
        "colab_type": "code",
        "colab": {
          "base_uri": "https://localhost:8080/",
          "height": 219
        },
        "outputId": "7330a197-3fc0-4f12-d988-f11b086060e7"
      },
      "source": [
        "# To run the model, we need to feed it the inputs at both time steps like:\n",
        "import numpy as np\n",
        "\n",
        "# Mini-batch\n",
        "X0_batch = np.array([[0, 1, 2], [3, 4, 5], [6, 7, 8], [9, 0, 1]])  # t = 0\n",
        "X1_batch = np.array([[9, 8, 7], [0, 0, 0], [6, 5, 4], [3, 2, 1]])  # t = 1\n",
        "\n",
        "with tf.Session() as sess:\n",
        "  init.run()\n",
        "  Y0_val, Y1_val = sess.run([Y0, Y1], feed_dict={X0: X0_batch, X1: X1_batch})"
      ],
      "execution_count": 3,
      "outputs": [
        {
          "output_type": "error",
          "ename": "NameError",
          "evalue": "ignored",
          "traceback": [
            "\u001b[0;31m---------------------------------------------------------------------------\u001b[0m",
            "\u001b[0;31mNameError\u001b[0m                                 Traceback (most recent call last)",
            "\u001b[0;32m<ipython-input-3-00bfc9c3a13f>\u001b[0m in \u001b[0;36m<module>\u001b[0;34m()\u001b[0m\n\u001b[1;32m      7\u001b[0m \u001b[0;34m\u001b[0m\u001b[0m\n\u001b[1;32m      8\u001b[0m \u001b[0;32mwith\u001b[0m \u001b[0mtf\u001b[0m\u001b[0;34m.\u001b[0m\u001b[0mSession\u001b[0m\u001b[0;34m(\u001b[0m\u001b[0;34m)\u001b[0m \u001b[0;32mas\u001b[0m \u001b[0msess\u001b[0m\u001b[0;34m:\u001b[0m\u001b[0;34m\u001b[0m\u001b[0;34m\u001b[0m\u001b[0m\n\u001b[0;32m----> 9\u001b[0;31m   \u001b[0minit\u001b[0m\u001b[0;34m.\u001b[0m\u001b[0mrun\u001b[0m\u001b[0;34m(\u001b[0m\u001b[0;34m)\u001b[0m\u001b[0;34m\u001b[0m\u001b[0;34m\u001b[0m\u001b[0m\n\u001b[0m\u001b[1;32m     10\u001b[0m   \u001b[0mY0_val\u001b[0m\u001b[0;34m,\u001b[0m \u001b[0mY1_val\u001b[0m \u001b[0;34m=\u001b[0m \u001b[0msess\u001b[0m\u001b[0;34m.\u001b[0m\u001b[0mrun\u001b[0m\u001b[0;34m(\u001b[0m\u001b[0;34m[\u001b[0m\u001b[0mY0\u001b[0m\u001b[0;34m,\u001b[0m \u001b[0mY1\u001b[0m\u001b[0;34m]\u001b[0m\u001b[0;34m,\u001b[0m \u001b[0mfeed_dict\u001b[0m\u001b[0;34m=\u001b[0m\u001b[0;34m{\u001b[0m\u001b[0mX0\u001b[0m\u001b[0;34m:\u001b[0m \u001b[0mX0_batch\u001b[0m\u001b[0;34m,\u001b[0m \u001b[0mX1\u001b[0m\u001b[0;34m:\u001b[0m \u001b[0mX1_batch\u001b[0m\u001b[0;34m}\u001b[0m\u001b[0;34m)\u001b[0m\u001b[0;34m\u001b[0m\u001b[0;34m\u001b[0m\u001b[0m\n",
            "\u001b[0;31mNameError\u001b[0m: name 'init' is not defined"
          ]
        }
      ]
    },
    {
      "cell_type": "code",
      "metadata": {
        "id": "u_Ux4bz7QifR",
        "colab_type": "code",
        "outputId": "8f880669-1c8e-473a-8964-5a4379120aa5",
        "colab": {
          "base_uri": "https://localhost:8080/",
          "height": 86
        }
      },
      "source": [
        "print(Y0_val)  # output at t = 0"
      ],
      "execution_count": 4,
      "outputs": [
        {
          "output_type": "stream",
          "text": [
            "[[-0.6921083  -0.99035764 -0.8729291   0.989037   -0.99768823]\n",
            " [-0.9998114  -1.          0.9709639   1.         -0.9997951 ]\n",
            " [-0.9999999  -1.          0.9999706   1.         -0.99998176]\n",
            " [-0.88205534 -1.          1.          0.9999362   1.        ]]\n"
          ],
          "name": "stdout"
        }
      ]
    },
    {
      "cell_type": "code",
      "metadata": {
        "id": "lsXebzSsQtsq",
        "colab_type": "code",
        "outputId": "697c81c6-65b7-4502-a36c-54a4dfeafd7a",
        "colab": {
          "base_uri": "https://localhost:8080/",
          "height": 86
        }
      },
      "source": [
        "print(Y1_val)  # output at t = 1"
      ],
      "execution_count": 5,
      "outputs": [
        {
          "output_type": "stream",
          "text": [
            "[[-1.         -1.          1.          1.          0.9545274 ]\n",
            " [ 0.9879906  -0.42289123  0.8672532  -0.5534051   0.9947409 ]\n",
            " [-0.99944764 -1.          1.          1.          0.99923396]\n",
            " [ 0.7435236  -0.9999993   0.99996257  0.9998185   0.9999942 ]]\n"
          ],
          "name": "stdout"
        }
      ]
    },
    {
      "cell_type": "code",
      "metadata": {
        "id": "Mqx_s5uvQyQg",
        "colab_type": "code",
        "outputId": "db290633-9186-4c8c-e4f9-23cd7040e4cc",
        "colab": {
          "base_uri": "https://localhost:8080/",
          "height": 34
        }
      },
      "source": [
        "X0_batch.shape"
      ],
      "execution_count": 6,
      "outputs": [
        {
          "output_type": "execute_result",
          "data": {
            "text/plain": [
              "(4, 3)"
            ]
          },
          "metadata": {
            "tags": []
          },
          "execution_count": 6
        }
      ]
    },
    {
      "cell_type": "markdown",
      "metadata": {
        "id": "uPpxwQJST6XK",
        "colab_type": "text"
      },
      "source": [
        "**Static Unrolling through Time**\n",
        "- BasicRNNCell() function creates copies of the cell to build the unrolled RNN (one for each time step)\n",
        "- static_rnn() function calls the BasicRNNCell()'s __call__() function once per input (in below code twice), with shared weights and bias terms and chain them up. It returns two objects: a Python list containing the output tensors for each time step and a tensor containing the final states of network<hr> \n",
        "- The following code builds the RNN. It take a single input placeholders of shape [None, n_steps, n_inputs] where the first dimension is the mini-batch size. Then it extracts the list of sequences for each time step. X_seqs is a Python list of n_steps tensors of shape [None, n_inputs], where once again the first dimension is the mini-batch size.\n",
        "- X_seqs is a Python list of n_steps tensors of shape [None, n_inputs]. \n",
        "- Next two lines are self-explanatory (above functions). \n",
        "- Finally, we merge the output tensors into a single tensor."
      ]
    },
    {
      "cell_type": "code",
      "metadata": {
        "id": "STz5XzjLRVUQ",
        "colab_type": "code",
        "outputId": "452f1915-9bf8-4d26-fd91-ebddc8cddf20",
        "colab": {
          "base_uri": "https://localhost:8080/",
          "height": 106
        }
      },
      "source": [
        "tf.reset_default_graph()\n",
        "\n",
        "n_steps = 2\n",
        "n_inputs = 3\n",
        "n_neurons = 5\n",
        "\n",
        "X = tf.placeholder(tf.float32, [None, n_steps, n_inputs])\n",
        "X_seqs = tf.unstack(tf.transpose(X, perm=[1, 0, 2]))\n",
        "basic_cell = tf.contrib.rnn.BasicRNNCell(num_units=n_neurons)\n",
        "output_seqs, states = tf.contrib.rnn.static_rnn(basic_cell, X_seqs, dtype=tf.float32)\n",
        "outputs = tf.transpose(tf.stack(output_seqs), perm=[1, 0, 2])\n",
        "\n",
        "init = tf.global_variables_initializer()"
      ],
      "execution_count": 19,
      "outputs": [
        {
          "output_type": "stream",
          "text": [
            "WARNING:tensorflow:Entity <bound method BasicRNNCell.call of <tensorflow.python.ops.rnn_cell_impl.BasicRNNCell object at 0x7f91fd364d30>> could not be transformed and will be executed as-is. Please report this to the AutgoGraph team. When filing the bug, set the verbosity to 10 (on Linux, `export AUTOGRAPH_VERBOSITY=10`) and attach the full output. Cause: converting <bound method BasicRNNCell.call of <tensorflow.python.ops.rnn_cell_impl.BasicRNNCell object at 0x7f91fd364d30>>: AssertionError: Bad argument number for Name: 3, expecting 4\n",
            "WARNING: Entity <bound method BasicRNNCell.call of <tensorflow.python.ops.rnn_cell_impl.BasicRNNCell object at 0x7f91fd364d30>> could not be transformed and will be executed as-is. Please report this to the AutgoGraph team. When filing the bug, set the verbosity to 10 (on Linux, `export AUTOGRAPH_VERBOSITY=10`) and attach the full output. Cause: converting <bound method BasicRNNCell.call of <tensorflow.python.ops.rnn_cell_impl.BasicRNNCell object at 0x7f91fd364d30>>: AssertionError: Bad argument number for Name: 3, expecting 4\n",
            "WARNING:tensorflow:Entity <bound method BasicRNNCell.call of <tensorflow.python.ops.rnn_cell_impl.BasicRNNCell object at 0x7f91fd364d30>> could not be transformed and will be executed as-is. Please report this to the AutgoGraph team. When filing the bug, set the verbosity to 10 (on Linux, `export AUTOGRAPH_VERBOSITY=10`) and attach the full output. Cause: converting <bound method BasicRNNCell.call of <tensorflow.python.ops.rnn_cell_impl.BasicRNNCell object at 0x7f91fd364d30>>: AssertionError: Bad argument number for Name: 3, expecting 4\n",
            "WARNING: Entity <bound method BasicRNNCell.call of <tensorflow.python.ops.rnn_cell_impl.BasicRNNCell object at 0x7f91fd364d30>> could not be transformed and will be executed as-is. Please report this to the AutgoGraph team. When filing the bug, set the verbosity to 10 (on Linux, `export AUTOGRAPH_VERBOSITY=10`) and attach the full output. Cause: converting <bound method BasicRNNCell.call of <tensorflow.python.ops.rnn_cell_impl.BasicRNNCell object at 0x7f91fd364d30>>: AssertionError: Bad argument number for Name: 3, expecting 4\n"
          ],
          "name": "stdout"
        }
      ]
    },
    {
      "cell_type": "code",
      "metadata": {
        "id": "PsTXYmYXW7nU",
        "colab_type": "code",
        "colab": {}
      },
      "source": [
        "# Now we can run the network by feeding it a single tensor that contains all the mini-batch sequences:\n",
        "np.random.seed(42)\n",
        "X_batch = np.random.randint(10, size=[4, n_steps, n_inputs])\n",
        "\n",
        "with tf.Session() as sess:\n",
        "  init.run()\n",
        "  outputs_val = outputs.eval(feed_dict={X: X_batch})"
      ],
      "execution_count": 0,
      "outputs": []
    },
    {
      "cell_type": "code",
      "metadata": {
        "id": "H2UnwR1xhRc7",
        "colab_type": "code",
        "outputId": "971b3bc3-d056-43c4-88af-78c9fc209c42",
        "colab": {
          "base_uri": "https://localhost:8080/",
          "height": 208
        }
      },
      "source": [
        "# We get a single outputs_val for all instances, all time steps, and all neurons\n",
        "print(outputs_val)"
      ],
      "execution_count": 21,
      "outputs": [
        {
          "output_type": "stream",
          "text": [
            "[[[ 0.8874359  -0.99999756 -0.9821547   0.9968731  -0.9595433 ]\n",
            "  [ 0.98201156 -0.99985063 -0.93712014  0.9845191  -0.6102992 ]]\n",
            "\n",
            " [[ 0.9858897  -0.999167   -0.59296733  0.92676336 -0.9490221 ]\n",
            "  [ 0.905005   -0.9995281  -0.9784704   0.9734859   0.41192576]]\n",
            "\n",
            " [[ 0.2733176  -0.99999684 -0.95213515  0.9988251  -0.9905364 ]\n",
            "  [ 0.9566814  -0.9997986  -0.9979897   0.9261524   0.88399297]]\n",
            "\n",
            " [[ 0.3683513  -0.999906   -0.9432475   0.9879544  -0.8959845 ]\n",
            "  [ 0.9626569  -0.32963815  0.95116824  0.76147825 -0.9875381 ]]]\n"
          ],
          "name": "stdout"
        }
      ]
    },
    {
      "cell_type": "markdown",
      "metadata": {
        "id": "m2ge8vOc0OJm",
        "colab_type": "text"
      },
      "source": [
        "**Dynamic Unrolling Through Time**<br>\n",
        "The dynamic_rnn() function uses a while_loop() operation to run over the cell the appropriate number of times; also accepts a single tensor for all inputs at every time step and it outputs a single tensor for all outputs."
      ]
    },
    {
      "cell_type": "code",
      "metadata": {
        "id": "g46UsZLqsJPJ",
        "colab_type": "code",
        "colab": {
          "base_uri": "https://localhost:8080/",
          "height": 72
        },
        "outputId": "0e65536d-3a69-4660-e7e8-e8e7aff387d8"
      },
      "source": [
        "tf.reset_default_graph()\n",
        "\n",
        "X = tf.placeholder(tf.float32, shape=[None, n_steps, n_inputs])\n",
        "\n",
        "basic_cell = tf.contrib.rnn.BasicRNNCell(num_units=n_neurons)\n",
        "outputs, states = tf.nn.dynamic_rnn(basic_cell, X, dtype=tf.float32)\n",
        "\n",
        "init = tf.global_variables_initializer()"
      ],
      "execution_count": 22,
      "outputs": [
        {
          "output_type": "stream",
          "text": [
            "WARNING:tensorflow:Entity <bound method BasicRNNCell.call of <tensorflow.python.ops.rnn_cell_impl.BasicRNNCell object at 0x7f91fbcb54e0>> could not be transformed and will be executed as-is. Please report this to the AutgoGraph team. When filing the bug, set the verbosity to 10 (on Linux, `export AUTOGRAPH_VERBOSITY=10`) and attach the full output. Cause: converting <bound method BasicRNNCell.call of <tensorflow.python.ops.rnn_cell_impl.BasicRNNCell object at 0x7f91fbcb54e0>>: AssertionError: Bad argument number for Name: 3, expecting 4\n",
            "WARNING: Entity <bound method BasicRNNCell.call of <tensorflow.python.ops.rnn_cell_impl.BasicRNNCell object at 0x7f91fbcb54e0>> could not be transformed and will be executed as-is. Please report this to the AutgoGraph team. When filing the bug, set the verbosity to 10 (on Linux, `export AUTOGRAPH_VERBOSITY=10`) and attach the full output. Cause: converting <bound method BasicRNNCell.call of <tensorflow.python.ops.rnn_cell_impl.BasicRNNCell object at 0x7f91fbcb54e0>>: AssertionError: Bad argument number for Name: 3, expecting 4\n"
          ],
          "name": "stdout"
        }
      ]
    },
    {
      "cell_type": "code",
      "metadata": {
        "id": "R2__oUVx1axG",
        "colab_type": "code",
        "colab": {
          "base_uri": "https://localhost:8080/",
          "height": 208
        },
        "outputId": "48c7ef92-6b59-4feb-aa92-2781a55650f6"
      },
      "source": [
        "np.random.seed(42)\n",
        "X_batch = np.random.randint(10, size=[4, n_steps, n_inputs])\n",
        "\n",
        "with tf.Session() as sess:\n",
        "  init.run()\n",
        "  outputs_val = outputs.eval(feed_dict={X: X_batch})\n",
        "\n",
        "print(outputs_val)"
      ],
      "execution_count": 23,
      "outputs": [
        {
          "output_type": "stream",
          "text": [
            "[[[-0.9089079  -0.75575864 -0.85789424 -0.99999493  0.9981769 ]\n",
            "  [ 0.44900855 -0.9927434  -0.8450383  -0.9999968   0.9976879 ]]\n",
            "\n",
            " [[ 0.28352934 -0.97497714 -0.7123808  -0.9996833   0.9878399 ]\n",
            "  [-0.5168969  -0.9571659  -0.64193916 -0.99996173  0.9657969 ]]\n",
            "\n",
            " [[-0.9694432  -0.6636183  -0.4756942  -0.9999872   0.9938611 ]\n",
            "  [-0.3996148  -0.3461291  -0.96205145 -0.99998695  0.9953548 ]]\n",
            "\n",
            " [[-0.90940696 -0.30549824 -0.62014306 -0.99974257  0.9805392 ]\n",
            "  [ 0.9595334  -0.999578    0.7237003  -0.9913349   0.6652996 ]]]\n"
          ],
          "name": "stdout"
        }
      ]
    },
    {
      "cell_type": "markdown",
      "metadata": {
        "id": "rZexcgv03jw8",
        "colab_type": "text"
      },
      "source": [
        "# Handling Variable Length Input Sequences\n",
        "When handling the variable lenght inputs, you need to set the sequence_length argument of dynamic_rnn() function to a 1D tensor indicating the lenght of the input sequence for each instance"
      ]
    },
    {
      "cell_type": "code",
      "metadata": {
        "id": "va78Q-eU2XXk",
        "colab_type": "code",
        "colab": {
          "base_uri": "https://localhost:8080/",
          "height": 124
        },
        "outputId": "d2f82684-7cab-401e-949a-7cdf6a19df38"
      },
      "source": [
        "tf.reset_default_graph()\n",
        "\n",
        "X = tf.placeholder(tf.float32, shape=[None, n_steps, n_inputs])\n",
        "seq_length = tf.placeholder(tf.int32, [None])\n",
        "\n",
        "basic_cell = tf.contrib.rnn.BasicRNNCell(num_units=n_neurons)\n",
        "outputs, states = tf.nn.dynamic_rnn(basic_cell, X, dtype=tf.float32, sequence_length=seq_length)\n",
        "\n",
        "init = tf.global_variables_initializer()"
      ],
      "execution_count": 25,
      "outputs": [
        {
          "output_type": "stream",
          "text": [
            "WARNING:tensorflow:Entity <bound method BasicRNNCell.call of <tensorflow.python.ops.rnn_cell_impl.BasicRNNCell object at 0x7f91fb31b9b0>> could not be transformed and will be executed as-is. Please report this to the AutgoGraph team. When filing the bug, set the verbosity to 10 (on Linux, `export AUTOGRAPH_VERBOSITY=10`) and attach the full output. Cause: converting <bound method BasicRNNCell.call of <tensorflow.python.ops.rnn_cell_impl.BasicRNNCell object at 0x7f91fb31b9b0>>: AssertionError: Bad argument number for Name: 3, expecting 4\n",
            "WARNING: Entity <bound method BasicRNNCell.call of <tensorflow.python.ops.rnn_cell_impl.BasicRNNCell object at 0x7f91fb31b9b0>> could not be transformed and will be executed as-is. Please report this to the AutgoGraph team. When filing the bug, set the verbosity to 10 (on Linux, `export AUTOGRAPH_VERBOSITY=10`) and attach the full output. Cause: converting <bound method BasicRNNCell.call of <tensorflow.python.ops.rnn_cell_impl.BasicRNNCell object at 0x7f91fb31b9b0>>: AssertionError: Bad argument number for Name: 3, expecting 4\n",
            "WARNING:tensorflow:From /usr/local/lib/python3.6/dist-packages/tensorflow/python/ops/rnn.py:244: add_dispatch_support.<locals>.wrapper (from tensorflow.python.ops.array_ops) is deprecated and will be removed in a future version.\n",
            "Instructions for updating:\n",
            "Use tf.where in 2.0, which has the same broadcast rule as np.where\n"
          ],
          "name": "stdout"
        }
      ]
    },
    {
      "cell_type": "code",
      "metadata": {
        "id": "1jOij2CV6xdZ",
        "colab_type": "code",
        "colab": {}
      },
      "source": [
        "# Second input sequence contains only one input instead of two. It must be padded with a zero vector in order to fit in the input tensor X\n",
        "X_batch = np.array([\n",
        "        [[0, 1, 2], [9, 8, 7]], # instance 0\n",
        "        [[3, 4, 5], [0, 0, 0]], # instance 1 (padded with a zero vector)\n",
        "        [[6, 7, 8], [6, 5, 4]], # instance 2\n",
        "        [[9, 0, 1], [3, 2, 1]], # instance 3           \n",
        "])\n",
        "seq_length_batch = np.array([2, 1, 2, 2])"
      ],
      "execution_count": 0,
      "outputs": []
    },
    {
      "cell_type": "code",
      "metadata": {
        "id": "-aFYWip67iBx",
        "colab_type": "code",
        "colab": {}
      },
      "source": [
        "with tf.Session() as sess:\n",
        "  init.run()\n",
        "  outputs_val, states_val = sess.run([outputs, states], feed_dict={X: X_batch, seq_length: seq_length_batch})"
      ],
      "execution_count": 0,
      "outputs": []
    },
    {
      "cell_type": "code",
      "metadata": {
        "id": "BQULh13C7jwu",
        "colab_type": "code",
        "colab": {
          "base_uri": "https://localhost:8080/",
          "height": 347
        },
        "outputId": "4bfdde9d-7721-4141-f8a7-381831d25b20"
      },
      "source": [
        "print(outputs_val)"
      ],
      "execution_count": 29,
      "outputs": [
        {
          "output_type": "stream",
          "text": [
            "[[[ 8.6597389e-01 -3.7302789e-01  4.0093827e-01  9.2753386e-01\n",
            "    8.8923764e-01]\n",
            "  [ 9.9962437e-01  9.9995887e-01  9.8866630e-01  9.6218842e-01\n",
            "    9.9999136e-01]]\n",
            "\n",
            " [[ 9.9799424e-01  7.9514486e-01  7.5641072e-01  9.9339384e-01\n",
            "    9.9914670e-01]\n",
            "  [ 0.0000000e+00  0.0000000e+00  0.0000000e+00  0.0000000e+00\n",
            "    0.0000000e+00]]\n",
            "\n",
            " [[ 9.9997199e-01  9.8817724e-01  9.1391367e-01  9.9941587e-01\n",
            "    9.9999380e-01]\n",
            "  [ 9.9126506e-01  9.9966586e-01  9.8500568e-01  5.4584771e-01\n",
            "    9.9723399e-01]]\n",
            "\n",
            " [[-5.0562609e-04  9.9995887e-01  9.9378693e-01 -9.9987239e-01\n",
            "   -7.5242847e-01]\n",
            "  [ 6.8067551e-01  9.4344717e-01 -5.7538105e-03 -7.6379550e-01\n",
            "    7.8677428e-01]]]\n"
          ],
          "name": "stdout"
        }
      ]
    },
    {
      "cell_type": "code",
      "metadata": {
        "id": "tPwVjUyT72Xm",
        "colab_type": "code",
        "colab": {
          "base_uri": "https://localhost:8080/",
          "height": 86
        },
        "outputId": "12d3071a-3199-4969-e686-2cfae6527213"
      },
      "source": [
        "# Contains the final state of each cell (excluding the zero vectors)\n",
        "print(states_val)"
      ],
      "execution_count": 30,
      "outputs": [
        {
          "output_type": "stream",
          "text": [
            "[[ 0.9996244   0.9999589   0.9886663   0.9621884   0.99999136]\n",
            " [ 0.99799424  0.79514486  0.7564107   0.99339384  0.9991467 ]\n",
            " [ 0.99126506  0.99966586  0.9850057   0.5458477   0.997234  ]\n",
            " [ 0.6806755   0.9434472  -0.00575381 -0.7637955   0.7867743 ]]\n"
          ],
          "name": "stdout"
        }
      ]
    },
    {
      "cell_type": "markdown",
      "metadata": {
        "id": "OQlzc5199LUk",
        "colab_type": "text"
      },
      "source": [
        "# Training RNNs\n",
        "Let's train an RNN to classify MNIST images. We will treate each image as a sequence of 28 rows of 28 pixels each. Here we will ues 150 recurrent neurons, plus a fully connected layer containing 10 neurons (one per class) connected to the output of the last tiem step, followed by a softmax layer."
      ]
    },
    {
      "cell_type": "code",
      "metadata": {
        "id": "_r4DO-bX-C8B",
        "colab_type": "code",
        "colab": {
          "base_uri": "https://localhost:8080/",
          "height": 106
        },
        "outputId": "e0d09e69-9c68-4572-994a-e46478450ed3"
      },
      "source": [
        "tf.reset_default_graph()\n",
        "\n",
        "n_steps = 28\n",
        "n_inputs = 28\n",
        "n_neurons = 150 \n",
        "n_outputs = 10\n",
        "\n",
        "learning_rate = 0.001\n",
        "\n",
        "X = tf.placeholder(tf.float32, shape=[None, n_steps, n_inputs])\n",
        "y = tf.placeholder(tf.int32, shape=[None])\n",
        "\n",
        "basic_cell = tf.contrib.rnn.BasicRNNCell(num_units=n_neurons)\n",
        "outputs, states = tf.nn.dynamic_rnn(basic_cell, X, dtype=tf.float32)\n",
        "\n",
        "logits = tf.layers.dense(states, n_outputs)\n",
        "xentropy = tf.nn.sparse_softmax_cross_entropy_with_logits(labels=y, logits=logits)\n",
        "\n",
        "loss = tf.reduce_mean(xentropy)\n",
        "optimizer = tf.train.AdamOptimizer(learning_rate=learning_rate)\n",
        "training_op = optimizer.minimize(loss)\n",
        "correct = tf.nn.in_top_k(logits, y, 1)\n",
        "accuracy = tf.reduce_mean(tf.cast(correct, tf.float32))\n",
        "\n",
        "init = tf.global_variables_initializer()"
      ],
      "execution_count": 42,
      "outputs": [
        {
          "output_type": "stream",
          "text": [
            "WARNING:tensorflow:Entity <bound method BasicRNNCell.call of <tensorflow.python.ops.rnn_cell_impl.BasicRNNCell object at 0x7f91faef39e8>> could not be transformed and will be executed as-is. Please report this to the AutgoGraph team. When filing the bug, set the verbosity to 10 (on Linux, `export AUTOGRAPH_VERBOSITY=10`) and attach the full output. Cause: converting <bound method BasicRNNCell.call of <tensorflow.python.ops.rnn_cell_impl.BasicRNNCell object at 0x7f91faef39e8>>: AssertionError: Bad argument number for Name: 3, expecting 4\n",
            "WARNING: Entity <bound method BasicRNNCell.call of <tensorflow.python.ops.rnn_cell_impl.BasicRNNCell object at 0x7f91faef39e8>> could not be transformed and will be executed as-is. Please report this to the AutgoGraph team. When filing the bug, set the verbosity to 10 (on Linux, `export AUTOGRAPH_VERBOSITY=10`) and attach the full output. Cause: converting <bound method BasicRNNCell.call of <tensorflow.python.ops.rnn_cell_impl.BasicRNNCell object at 0x7f91faef39e8>>: AssertionError: Bad argument number for Name: 3, expecting 4\n",
            "WARNING:tensorflow:Entity <bound method Dense.call of <tensorflow.python.layers.core.Dense object at 0x7f91fae8c748>> could not be transformed and will be executed as-is. Please report this to the AutgoGraph team. When filing the bug, set the verbosity to 10 (on Linux, `export AUTOGRAPH_VERBOSITY=10`) and attach the full output. Cause: converting <bound method Dense.call of <tensorflow.python.layers.core.Dense object at 0x7f91fae8c748>>: AssertionError: Bad argument number for Name: 3, expecting 4\n",
            "WARNING: Entity <bound method Dense.call of <tensorflow.python.layers.core.Dense object at 0x7f91fae8c748>> could not be transformed and will be executed as-is. Please report this to the AutgoGraph team. When filing the bug, set the verbosity to 10 (on Linux, `export AUTOGRAPH_VERBOSITY=10`) and attach the full output. Cause: converting <bound method Dense.call of <tensorflow.python.layers.core.Dense object at 0x7f91fae8c748>>: AssertionError: Bad argument number for Name: 3, expecting 4\n"
          ],
          "name": "stdout"
        }
      ]
    },
    {
      "cell_type": "code",
      "metadata": {
        "id": "DiGnCV4nByQl",
        "colab_type": "code",
        "colab": {
          "base_uri": "https://localhost:8080/",
          "height": 86
        },
        "outputId": "d414a8d0-d1fd-4b7f-b41b-d36977a0b18a"
      },
      "source": [
        "from tensorflow.examples.tutorials.mnist import input_data\n",
        "\n",
        "mnist = input_data.read_data_sets(\"/tmp/data\")\n",
        "X_test = mnist.test.images.reshape((-1, n_steps, n_inputs))\n",
        "y_test = mnist.test.labels"
      ],
      "execution_count": 43,
      "outputs": [
        {
          "output_type": "stream",
          "text": [
            "Extracting /tmp/data/train-images-idx3-ubyte.gz\n",
            "Extracting /tmp/data/train-labels-idx1-ubyte.gz\n",
            "Extracting /tmp/data/t10k-images-idx3-ubyte.gz\n",
            "Extracting /tmp/data/t10k-labels-idx1-ubyte.gz\n"
          ],
          "name": "stdout"
        }
      ]
    },
    {
      "cell_type": "code",
      "metadata": {
        "id": "MapiQnwnCKl4",
        "colab_type": "code",
        "colab": {
          "base_uri": "https://localhost:8080/",
          "height": 1000
        },
        "outputId": "6b162b47-520b-42d9-d98a-cf5aa317e1cf"
      },
      "source": [
        "n_epochs = 100\n",
        "batch_size = 128\n",
        "\n",
        "with tf.Session() as sess:\n",
        "  init.run()\n",
        "  for epoch in range(n_epochs):\n",
        "    for iteration in range(mnist.train.num_examples // batch_size):\n",
        "      X_batch, y_batch = mnist.train.next_batch(batch_size)\n",
        "      X_batch = X_batch.reshape((-1, n_steps, n_inputs))\n",
        "      sess.run(training_op, feed_dict={X: X_batch, y: y_batch})\n",
        "    acc_train = accuracy.eval(feed_dict={X: X_batch, y: y_batch})\n",
        "    acc_test = accuracy.eval(feed_dict={X: X_test, y: y_test})\n",
        "    print(epoch, \"Train accuracy:\", acc_train, \"Test accuracy:\", acc_test)"
      ],
      "execution_count": 44,
      "outputs": [
        {
          "output_type": "stream",
          "text": [
            "0 Train accuracy: 0.9453125 Test accuracy: 0.9314\n",
            "1 Train accuracy: 0.9765625 Test accuracy: 0.9419\n",
            "2 Train accuracy: 0.9453125 Test accuracy: 0.9523\n",
            "3 Train accuracy: 0.9453125 Test accuracy: 0.9542\n",
            "4 Train accuracy: 0.9453125 Test accuracy: 0.962\n",
            "5 Train accuracy: 0.9609375 Test accuracy: 0.9619\n",
            "6 Train accuracy: 0.984375 Test accuracy: 0.968\n",
            "7 Train accuracy: 0.984375 Test accuracy: 0.9684\n",
            "8 Train accuracy: 0.96875 Test accuracy: 0.9708\n",
            "9 Train accuracy: 0.984375 Test accuracy: 0.9731\n",
            "10 Train accuracy: 1.0 Test accuracy: 0.97\n",
            "11 Train accuracy: 0.984375 Test accuracy: 0.9664\n",
            "12 Train accuracy: 0.9921875 Test accuracy: 0.975\n",
            "13 Train accuracy: 1.0 Test accuracy: 0.9724\n",
            "14 Train accuracy: 1.0 Test accuracy: 0.9756\n",
            "15 Train accuracy: 0.9921875 Test accuracy: 0.9743\n",
            "16 Train accuracy: 0.984375 Test accuracy: 0.9697\n",
            "17 Train accuracy: 0.984375 Test accuracy: 0.9764\n",
            "18 Train accuracy: 0.9921875 Test accuracy: 0.9764\n",
            "19 Train accuracy: 0.9921875 Test accuracy: 0.974\n",
            "20 Train accuracy: 1.0 Test accuracy: 0.9776\n",
            "21 Train accuracy: 0.9921875 Test accuracy: 0.975\n",
            "22 Train accuracy: 0.984375 Test accuracy: 0.98\n",
            "23 Train accuracy: 0.96875 Test accuracy: 0.9784\n",
            "24 Train accuracy: 0.9765625 Test accuracy: 0.9761\n",
            "25 Train accuracy: 0.984375 Test accuracy: 0.9742\n",
            "26 Train accuracy: 0.9921875 Test accuracy: 0.9793\n",
            "27 Train accuracy: 0.9921875 Test accuracy: 0.9744\n",
            "28 Train accuracy: 0.96875 Test accuracy: 0.9806\n",
            "29 Train accuracy: 0.9921875 Test accuracy: 0.9779\n",
            "30 Train accuracy: 1.0 Test accuracy: 0.9736\n",
            "31 Train accuracy: 0.9765625 Test accuracy: 0.9787\n",
            "32 Train accuracy: 1.0 Test accuracy: 0.9787\n",
            "33 Train accuracy: 0.9765625 Test accuracy: 0.9742\n",
            "34 Train accuracy: 1.0 Test accuracy: 0.9737\n",
            "35 Train accuracy: 0.984375 Test accuracy: 0.9777\n",
            "36 Train accuracy: 1.0 Test accuracy: 0.9779\n",
            "37 Train accuracy: 0.9921875 Test accuracy: 0.973\n",
            "38 Train accuracy: 0.9921875 Test accuracy: 0.976\n",
            "39 Train accuracy: 0.984375 Test accuracy: 0.9798\n",
            "40 Train accuracy: 0.9921875 Test accuracy: 0.9757\n",
            "41 Train accuracy: 0.9921875 Test accuracy: 0.9762\n",
            "42 Train accuracy: 1.0 Test accuracy: 0.9743\n",
            "43 Train accuracy: 0.9921875 Test accuracy: 0.9751\n",
            "44 Train accuracy: 0.9921875 Test accuracy: 0.9771\n",
            "45 Train accuracy: 0.984375 Test accuracy: 0.9784\n",
            "46 Train accuracy: 1.0 Test accuracy: 0.9762\n",
            "47 Train accuracy: 1.0 Test accuracy: 0.9789\n",
            "48 Train accuracy: 0.9921875 Test accuracy: 0.9675\n",
            "49 Train accuracy: 0.9921875 Test accuracy: 0.9764\n",
            "50 Train accuracy: 0.984375 Test accuracy: 0.9719\n",
            "51 Train accuracy: 0.9921875 Test accuracy: 0.9733\n",
            "52 Train accuracy: 1.0 Test accuracy: 0.9794\n",
            "53 Train accuracy: 1.0 Test accuracy: 0.9778\n",
            "54 Train accuracy: 1.0 Test accuracy: 0.9763\n",
            "55 Train accuracy: 1.0 Test accuracy: 0.9769\n",
            "56 Train accuracy: 0.984375 Test accuracy: 0.9783\n",
            "57 Train accuracy: 0.9765625 Test accuracy: 0.9774\n",
            "58 Train accuracy: 1.0 Test accuracy: 0.9783\n",
            "59 Train accuracy: 0.9765625 Test accuracy: 0.9758\n",
            "60 Train accuracy: 0.9921875 Test accuracy: 0.9761\n",
            "61 Train accuracy: 1.0 Test accuracy: 0.9769\n",
            "62 Train accuracy: 1.0 Test accuracy: 0.9774\n",
            "63 Train accuracy: 0.9921875 Test accuracy: 0.9771\n",
            "64 Train accuracy: 0.9921875 Test accuracy: 0.9785\n",
            "65 Train accuracy: 0.9921875 Test accuracy: 0.9778\n",
            "66 Train accuracy: 1.0 Test accuracy: 0.9791\n",
            "67 Train accuracy: 1.0 Test accuracy: 0.9793\n",
            "68 Train accuracy: 0.96875 Test accuracy: 0.9739\n",
            "69 Train accuracy: 1.0 Test accuracy: 0.9788\n",
            "70 Train accuracy: 1.0 Test accuracy: 0.9772\n",
            "71 Train accuracy: 0.9921875 Test accuracy: 0.9788\n",
            "72 Train accuracy: 0.984375 Test accuracy: 0.9742\n",
            "73 Train accuracy: 1.0 Test accuracy: 0.9769\n",
            "74 Train accuracy: 0.9921875 Test accuracy: 0.9755\n",
            "75 Train accuracy: 0.9921875 Test accuracy: 0.9774\n",
            "76 Train accuracy: 0.984375 Test accuracy: 0.9759\n",
            "77 Train accuracy: 0.984375 Test accuracy: 0.9793\n",
            "78 Train accuracy: 0.984375 Test accuracy: 0.9747\n",
            "79 Train accuracy: 0.984375 Test accuracy: 0.9789\n",
            "80 Train accuracy: 0.9765625 Test accuracy: 0.9767\n",
            "81 Train accuracy: 1.0 Test accuracy: 0.9726\n",
            "82 Train accuracy: 0.9921875 Test accuracy: 0.9751\n",
            "83 Train accuracy: 0.9921875 Test accuracy: 0.9758\n",
            "84 Train accuracy: 1.0 Test accuracy: 0.9793\n",
            "85 Train accuracy: 1.0 Test accuracy: 0.9756\n",
            "86 Train accuracy: 0.9921875 Test accuracy: 0.9721\n",
            "87 Train accuracy: 0.9921875 Test accuracy: 0.9746\n",
            "88 Train accuracy: 1.0 Test accuracy: 0.9807\n",
            "89 Train accuracy: 1.0 Test accuracy: 0.9831\n",
            "90 Train accuracy: 0.9921875 Test accuracy: 0.9779\n",
            "91 Train accuracy: 0.984375 Test accuracy: 0.9743\n",
            "92 Train accuracy: 0.9921875 Test accuracy: 0.9746\n",
            "93 Train accuracy: 0.9765625 Test accuracy: 0.9757\n",
            "94 Train accuracy: 0.9921875 Test accuracy: 0.9773\n",
            "95 Train accuracy: 1.0 Test accuracy: 0.9776\n",
            "96 Train accuracy: 0.9765625 Test accuracy: 0.9765\n",
            "97 Train accuracy: 1.0 Test accuracy: 0.9754\n",
            "98 Train accuracy: 0.9921875 Test accuracy: 0.9803\n",
            "99 Train accuracy: 1.0 Test accuracy: 0.979\n"
          ],
          "name": "stdout"
        }
      ]
    },
    {
      "cell_type": "markdown",
      "metadata": {
        "id": "rDH4_IWBGOi2",
        "colab_type": "text"
      },
      "source": [
        "# Training to Predict Time Series\n",
        "- Let's train an RNN to predict the next value in a generated time series. Each training instance is a randomly selected sequence of 20 consecutive values from the time series, and the target sequence is the same as the inptu sequence.\n",
        "- RNN will contain 100 recurrent neurons and we will unroll it over 20 time steps since each training instance will be 20 inputs long. Each input will contain only one feature. The targets are also sequences of 20 inputs, each containing a single value.\n",
        "- OutputProjectionVector adds a fully connected layer of linear neurons without any activation funciton on top of each output."
      ]
    },
    {
      "cell_type": "code",
      "metadata": {
        "id": "r3ulPhRsMmXx",
        "colab_type": "code",
        "colab": {}
      },
      "source": [
        "# Generating a time series data\n",
        "t_min, t_max = 0, 30\n",
        "resolution = 0.1\n",
        "\n",
        "def time_series(t):\n",
        "    return t * np.sin(t) / 3 + 2 * np.sin(t*5)\n",
        "\n",
        "def next_batch(batch_size, n_steps):\n",
        "    t0 = np.random.rand(batch_size, 1) * (t_max - t_min - n_steps * resolution)\n",
        "    Ts = t0 + np.arange(0., n_steps + 1) * resolution\n",
        "    ys = time_series(Ts)\n",
        "    return ys[:, :-1].reshape(-1, n_steps, 1), ys[:, 1:].reshape(-1, n_steps, 1)"
      ],
      "execution_count": 0,
      "outputs": []
    },
    {
      "cell_type": "code",
      "metadata": {
        "id": "bLJTMEc6OBi1",
        "colab_type": "code",
        "colab": {
          "base_uri": "https://localhost:8080/",
          "height": 296
        },
        "outputId": "ea5fff2d-8bd3-4c93-918a-5c7a5d4436ad"
      },
      "source": [
        "import matplotlib.pyplot as plt\n",
        "\n",
        "t = np.linspace(t_min, t_max, int((t_max - t_min) / resolution))\n",
        "\n",
        "n_steps = 20\n",
        "t_instance = np.linspace(12.2, 12.2 + resolution * (n_steps + 1), n_steps + 1)\n",
        "\n",
        "plt.figure(figsize=(11,4))\n",
        "plt.subplot(121)\n",
        "plt.title(\"A time series (generated)\", fontsize=14)\n",
        "plt.plot(t, time_series(t), label=r\"$t . \\sin(t) / 3 + 2 . \\sin(5t)$\")\n",
        "plt.plot(t_instance[:-1], time_series(t_instance[:-1]), \"b-\", linewidth=3, label=\"A training instance\")\n",
        "plt.legend(loc=\"lower left\", fontsize=14)\n",
        "plt.axis([0, 30, -17, 13])\n",
        "plt.xlabel(\"Time\")\n",
        "plt.ylabel(\"Value\")\n",
        "\n",
        "plt.subplot(122)\n",
        "plt.title(\"A training instance\", fontsize=14)\n",
        "plt.plot(t_instance[:-1], time_series(t_instance[:-1]), \"bo\", markersize=10, label=\"instance\")\n",
        "plt.plot(t_instance[1:], time_series(t_instance[1:]), \"w*\", markersize=10, label=\"target\")\n",
        "plt.legend(loc=\"upper left\")\n",
        "plt.xlabel(\"Time\")\n",
        "plt.show()\n"
      ],
      "execution_count": 63,
      "outputs": [
        {
          "output_type": "display_data",
          "data": {
            "image/png": "[encoded data removed]",
            "text/plain": [
              "<Figure size 792x288 with 2 Axes>"
            ]
          },
          "metadata": {
            "tags": [],
            "needs_background": "light"
          }
        }
      ]
    },
    {
      "cell_type": "code",
      "metadata": {
        "id": "kyvJDHMfGTn2",
        "colab_type": "code",
        "colab": {
          "base_uri": "https://localhost:8080/",
          "height": 106
        },
        "outputId": "3143d8df-a3cf-4701-bea1-15241b43331b"
      },
      "source": [
        "tf.reset_default_graph()\n",
        "\n",
        "n_steps = 20\n",
        "n_inputs = 1\n",
        "n_neurons = 100\n",
        "n_outputs = 1\n",
        "\n",
        "X = tf.placeholder(tf.float32, [None, n_steps, n_inputs])\n",
        "y = tf.placeholder(tf.float32, [None, n_steps, n_outputs])\n",
        "\n",
        "cell = tf.contrib.rnn.OutputProjectionWrapper(\n",
        "    tf.contrib.rnn.BasicRNNCell(num_units=n_neurons, activation=tf.nn.relu), output_size=n_outputs\n",
        ")\n",
        "outputs, states = tf.nn.dynamic_rnn(cell, X, dtype=tf.float32)"
      ],
      "execution_count": 64,
      "outputs": [
        {
          "output_type": "stream",
          "text": [
            "WARNING:tensorflow:Entity <bound method OutputProjectionWrapper.call of <tensorflow.contrib.rnn.python.ops.core_rnn_cell.OutputProjectionWrapper object at 0x7f91fbe43c88>> could not be transformed and will be executed as-is. Please report this to the AutgoGraph team. When filing the bug, set the verbosity to 10 (on Linux, `export AUTOGRAPH_VERBOSITY=10`) and attach the full output. Cause: converting <bound method OutputProjectionWrapper.call of <tensorflow.contrib.rnn.python.ops.core_rnn_cell.OutputProjectionWrapper object at 0x7f91fbe43c88>>: AssertionError: Bad argument number for Name: 3, expecting 4\n",
            "WARNING: Entity <bound method OutputProjectionWrapper.call of <tensorflow.contrib.rnn.python.ops.core_rnn_cell.OutputProjectionWrapper object at 0x7f91fbe43c88>> could not be transformed and will be executed as-is. Please report this to the AutgoGraph team. When filing the bug, set the verbosity to 10 (on Linux, `export AUTOGRAPH_VERBOSITY=10`) and attach the full output. Cause: converting <bound method OutputProjectionWrapper.call of <tensorflow.contrib.rnn.python.ops.core_rnn_cell.OutputProjectionWrapper object at 0x7f91fbe43c88>>: AssertionError: Bad argument number for Name: 3, expecting 4\n",
            "WARNING:tensorflow:Entity <bound method BasicRNNCell.call of <tensorflow.python.ops.rnn_cell_impl.BasicRNNCell object at 0x7f91fbe43550>> could not be transformed and will be executed as-is. Please report this to the AutgoGraph team. When filing the bug, set the verbosity to 10 (on Linux, `export AUTOGRAPH_VERBOSITY=10`) and attach the full output. Cause: converting <bound method BasicRNNCell.call of <tensorflow.python.ops.rnn_cell_impl.BasicRNNCell object at 0x7f91fbe43550>>: AssertionError: Bad argument number for Name: 3, expecting 4\n",
            "WARNING: Entity <bound method BasicRNNCell.call of <tensorflow.python.ops.rnn_cell_impl.BasicRNNCell object at 0x7f91fbe43550>> could not be transformed and will be executed as-is. Please report this to the AutgoGraph team. When filing the bug, set the verbosity to 10 (on Linux, `export AUTOGRAPH_VERBOSITY=10`) and attach the full output. Cause: converting <bound method BasicRNNCell.call of <tensorflow.python.ops.rnn_cell_impl.BasicRNNCell object at 0x7f91fbe43550>>: AssertionError: Bad argument number for Name: 3, expecting 4\n"
          ],
          "name": "stdout"
        }
      ]
    },
    {
      "cell_type": "code",
      "metadata": {
        "id": "7Rd374tMLhQZ",
        "colab_type": "code",
        "colab": {}
      },
      "source": [
        "learning_rate = 0.001\n",
        "\n",
        "loss = tf.reduce_mean(tf.square(outputs - y))\n",
        "optimizer = tf.train.AdamOptimizer(learning_rate=learning_rate)\n",
        "training_op = optimizer.minimize(loss)\n",
        "\n",
        "init = tf.global_variables_initializer()\n",
        "saver = tf.train.Saver()"
      ],
      "execution_count": 0,
      "outputs": []
    },
    {
      "cell_type": "code",
      "metadata": {
        "id": "VhH3q5DZMBPr",
        "colab_type": "code",
        "colab": {
          "base_uri": "https://localhost:8080/",
          "height": 278
        },
        "outputId": "d4d87939-e63b-4b3b-f4ec-ccc4407ada05"
      },
      "source": [
        "n_iterations = 1500\n",
        "batch_size = 64\n",
        "\n",
        "with tf.Session() as sess:\n",
        "  init.run()\n",
        "  for iteration in range(n_iterations):\n",
        "    X_batch, y_batch = next_batch(batch_size, n_steps)\n",
        "    sess.run(training_op, feed_dict={X: X_batch, y: y_batch})\n",
        "    if iteration % 100 == 0:\n",
        "      mse = loss.eval(feed_dict={X: X_batch, y: y_batch})\n",
        "      print(iteration, \"\\tMSE:\", mse)\n",
        "\n",
        "  saver.save(sess, \"./my_time_series_model\")"
      ],
      "execution_count": 66,
      "outputs": [
        {
          "output_type": "stream",
          "text": [
            "0 \tMSE: 16.961723\n",
            "100 \tMSE: 0.6992024\n",
            "200 \tMSE: 0.25236994\n",
            "300 \tMSE: 0.152736\n",
            "400 \tMSE: 0.07181558\n",
            "500 \tMSE: 0.0545518\n",
            "600 \tMSE: 0.053348094\n",
            "700 \tMSE: 0.04899608\n",
            "800 \tMSE: 0.052934397\n",
            "900 \tMSE: 0.046733588\n",
            "1000 \tMSE: 0.043861765\n",
            "1100 \tMSE: 0.049820088\n",
            "1200 \tMSE: 0.049274843\n",
            "1300 \tMSE: 0.042704657\n",
            "1400 \tMSE: 0.038499806\n"
          ],
          "name": "stdout"
        }
      ]
    },
    {
      "cell_type": "code",
      "metadata": {
        "id": "Bab3GuSjMI_a",
        "colab_type": "code",
        "colab": {
          "base_uri": "https://localhost:8080/",
          "height": 382
        },
        "outputId": "40998025-1938-45e8-c360-6808adc3c4eb"
      },
      "source": [
        "# Once the model is trained, you can make predictions:\n",
        "with tf.Session() as sess:                          \n",
        "    saver.restore(sess, \"./my_time_series_model\")   \n",
        "\n",
        "    X_new = time_series(np.array(t_instance[:-1].reshape(-1, n_steps, n_inputs)))\n",
        "    y_pred = sess.run(outputs, feed_dict={X: X_new})\n",
        "\n",
        "y_pred"
      ],
      "execution_count": 67,
      "outputs": [
        {
          "output_type": "stream",
          "text": [
            "INFO:tensorflow:Restoring parameters from ./my_time_series_model\n"
          ],
          "name": "stdout"
        },
        {
          "output_type": "execute_result",
          "data": {
            "text/plain": [
              "array([[[-3.4458642 ],\n",
              "        [-2.4483187 ],\n",
              "        [-1.1174662 ],\n",
              "        [ 0.73597336],\n",
              "        [ 2.1876886 ],\n",
              "        [ 3.1163116 ],\n",
              "        [ 3.4410834 ],\n",
              "        [ 3.370283  ],\n",
              "        [ 2.8309336 ],\n",
              "        [ 2.2178926 ],\n",
              "        [ 1.7434926 ],\n",
              "        [ 1.5583736 ],\n",
              "        [ 1.9011683 ],\n",
              "        [ 2.7388444 ],\n",
              "        [ 3.9232147 ],\n",
              "        [ 5.1215677 ],\n",
              "        [ 6.144833  ],\n",
              "        [ 6.6821065 ],\n",
              "        [ 6.6337996 ],\n",
              "        [ 5.9318953 ]]], dtype=float32)"
            ]
          },
          "metadata": {
            "tags": []
          },
          "execution_count": 67
        }
      ]
    },
    {
      "cell_type": "markdown",
      "metadata": {
        "id": "VogxwNEJSPKc",
        "colab_type": "text"
      },
      "source": [
        "Instead of using OutputProjectionWrapper which is inefficient and slows down the training we will use a a bit trickier but more efficient solution described below: <br>\n",
        "Reshape the RNN outputs from [batch_size, n_steps, n_neurons] to [batch_size * n_steps, n_neurons], then apply a fully connected layer with appropriate size (in this case 1), which will result in an output tensor of shape [batch_size * n_steps, n_outputs], and then reshape this tensor to [batch_size, n_steps, n_outputs]. "
      ]
    },
    {
      "cell_type": "code",
      "metadata": {
        "id": "4HTr6QimN1r_",
        "colab_type": "code",
        "colab": {
          "base_uri": "https://localhost:8080/",
          "height": 72
        },
        "outputId": "a95ae95d-9d37-4048-fe8e-dec27987e272"
      },
      "source": [
        "tf.reset_default_graph()\n",
        "\n",
        "n_steps = 20\n",
        "n_inputs = 1\n",
        "n_neurons = 100\n",
        "n_outputs = 1\n",
        "\n",
        "X = tf.placeholder(tf.float32, [None, n_steps, n_inputs])\n",
        "y = tf.placeholder(tf.float32, [None, n_steps, n_outputs])\n",
        "\n",
        "cell = tf.contrib.rnn.BasicRNNCell(num_units=n_neurons, activation=tf.nn.relu)\n",
        "rnn_outputs, states = tf.nn.dynamic_rnn(cell, X, dtype=tf.float32)"
      ],
      "execution_count": 70,
      "outputs": [
        {
          "output_type": "stream",
          "text": [
            "WARNING:tensorflow:Entity <bound method BasicRNNCell.call of <tensorflow.python.ops.rnn_cell_impl.BasicRNNCell object at 0x7f91fad99f60>> could not be transformed and will be executed as-is. Please report this to the AutgoGraph team. When filing the bug, set the verbosity to 10 (on Linux, `export AUTOGRAPH_VERBOSITY=10`) and attach the full output. Cause: converting <bound method BasicRNNCell.call of <tensorflow.python.ops.rnn_cell_impl.BasicRNNCell object at 0x7f91fad99f60>>: AssertionError: Bad argument number for Name: 3, expecting 4\n",
            "WARNING: Entity <bound method BasicRNNCell.call of <tensorflow.python.ops.rnn_cell_impl.BasicRNNCell object at 0x7f91fad99f60>> could not be transformed and will be executed as-is. Please report this to the AutgoGraph team. When filing the bug, set the verbosity to 10 (on Linux, `export AUTOGRAPH_VERBOSITY=10`) and attach the full output. Cause: converting <bound method BasicRNNCell.call of <tensorflow.python.ops.rnn_cell_impl.BasicRNNCell object at 0x7f91fad99f60>>: AssertionError: Bad argument number for Name: 3, expecting 4\n"
          ],
          "name": "stdout"
        }
      ]
    },
    {
      "cell_type": "code",
      "metadata": {
        "id": "MqGKRVOFRadf",
        "colab_type": "code",
        "colab": {
          "base_uri": "https://localhost:8080/",
          "height": 72
        },
        "outputId": "469460ff-4588-4c78-f88e-cb3dc09b3c38"
      },
      "source": [
        "stacked_rnn_outputs = tf.reshape(rnn_outputs, [-1, n_neurons])\n",
        "stacked_outputs = tf.layers.dense(stacked_rnn_outputs, n_outputs)\n",
        "outputs = tf.reshape(stacked_outputs, [-1, n_steps, n_outputs])"
      ],
      "execution_count": 73,
      "outputs": [
        {
          "output_type": "stream",
          "text": [
            "WARNING:tensorflow:Entity <bound method Dense.call of <tensorflow.python.layers.core.Dense object at 0x7f91f85fe7f0>> could not be transformed and will be executed as-is. Please report this to the AutgoGraph team. When filing the bug, set the verbosity to 10 (on Linux, `export AUTOGRAPH_VERBOSITY=10`) and attach the full output. Cause: converting <bound method Dense.call of <tensorflow.python.layers.core.Dense object at 0x7f91f85fe7f0>>: AssertionError: Bad argument number for Name: 3, expecting 4\n",
            "WARNING: Entity <bound method Dense.call of <tensorflow.python.layers.core.Dense object at 0x7f91f85fe7f0>> could not be transformed and will be executed as-is. Please report this to the AutgoGraph team. When filing the bug, set the verbosity to 10 (on Linux, `export AUTOGRAPH_VERBOSITY=10`) and attach the full output. Cause: converting <bound method Dense.call of <tensorflow.python.layers.core.Dense object at 0x7f91f85fe7f0>>: AssertionError: Bad argument number for Name: 3, expecting 4\n"
          ],
          "name": "stdout"
        }
      ]
    },
    {
      "cell_type": "code",
      "metadata": {
        "id": "16P5VVvuR9_I",
        "colab_type": "code",
        "colab": {}
      },
      "source": [
        "learning_rate = 0.001\n",
        "\n",
        "loss = tf.reduce_mean(tf.square(outputs - y))\n",
        "optimizer = tf.train.AdamOptimizer(learning_rate=learning_rate)\n",
        "training_op = optimizer.minimize(loss)\n",
        "\n",
        "init = tf.global_variables_initializer()\n",
        "saver = tf.train.Saver()"
      ],
      "execution_count": 0,
      "outputs": []
    },
    {
      "cell_type": "code",
      "metadata": {
        "id": "g9pTcokiSD_t",
        "colab_type": "code",
        "colab": {
          "base_uri": "https://localhost:8080/",
          "height": 278
        },
        "outputId": "93dfd75b-9182-4301-ece6-c9e27886ce15"
      },
      "source": [
        "n_iterations = 1500\n",
        "batch_size = 64\n",
        "\n",
        "with tf.Session() as sess:\n",
        "  init.run()\n",
        "  for iteration in range(n_iterations):\n",
        "    X_batch, y_batch = next_batch(batch_size, n_steps)\n",
        "    sess.run(training_op, feed_dict={X: X_batch, y: y_batch})\n",
        "    if iteration % 100 == 0:\n",
        "      mse = loss.eval(feed_dict={X: X_batch, y: y_batch})\n",
        "      print(iteration, \"\\tMSE:\", mse)\n",
        "\n",
        "  saver.save(sess, \"./my_time_series_model\")"
      ],
      "execution_count": 75,
      "outputs": [
        {
          "output_type": "stream",
          "text": [
            "0 \tMSE: 20.43783\n",
            "100 \tMSE: 0.62868893\n",
            "200 \tMSE: 0.18511285\n",
            "300 \tMSE: 0.112789914\n",
            "400 \tMSE: 0.061879586\n",
            "500 \tMSE: 0.06658075\n",
            "600 \tMSE: 0.0517594\n",
            "700 \tMSE: 0.0565153\n",
            "800 \tMSE: 0.058119655\n",
            "900 \tMSE: 0.042504456\n",
            "1000 \tMSE: 0.06319202\n",
            "1100 \tMSE: 0.04533728\n",
            "1200 \tMSE: 0.057544004\n",
            "1300 \tMSE: 0.044885643\n",
            "1400 \tMSE: 0.044187326\n"
          ],
          "name": "stdout"
        }
      ]
    },
    {
      "cell_type": "code",
      "metadata": {
        "id": "YWKaAIUCSF_H",
        "colab_type": "code",
        "colab": {
          "base_uri": "https://localhost:8080/",
          "height": 382
        },
        "outputId": "d052071c-0d52-4150-e6bb-250b45e8ae9a"
      },
      "source": [
        "# Once the model is trained, you can make predictions:\n",
        "with tf.Session() as sess:                          \n",
        "    saver.restore(sess, \"./my_time_series_model\")   \n",
        "\n",
        "    X_new = time_series(np.array(t_instance[:-1].reshape(-1, n_steps, n_inputs)))\n",
        "    y_pred = sess.run(outputs, feed_dict={X: X_new})\n",
        "\n",
        "y_pred"
      ],
      "execution_count": 76,
      "outputs": [
        {
          "output_type": "stream",
          "text": [
            "INFO:tensorflow:Restoring parameters from ./my_time_series_model\n"
          ],
          "name": "stdout"
        },
        {
          "output_type": "execute_result",
          "data": {
            "text/plain": [
              "array([[[-3.4006875],\n",
              "        [-2.509924 ],\n",
              "        [-1.1873482],\n",
              "        [ 0.6874228],\n",
              "        [ 2.0651352],\n",
              "        [ 3.0677056],\n",
              "        [ 3.4296603],\n",
              "        [ 3.3434434],\n",
              "        [ 2.8280578],\n",
              "        [ 2.1883986],\n",
              "        [ 1.6366467],\n",
              "        [ 1.5050808],\n",
              "        [ 1.8886119],\n",
              "        [ 2.6965287],\n",
              "        [ 3.8400476],\n",
              "        [ 5.0756674],\n",
              "        [ 6.065374 ],\n",
              "        [ 6.627118 ],\n",
              "        [ 6.6056657],\n",
              "        [ 5.995962 ]]], dtype=float32)"
            ]
          },
          "metadata": {
            "tags": []
          },
          "execution_count": 76
        }
      ]
    },
    {
      "cell_type": "markdown",
      "metadata": {
        "id": "jj3rwRuzTEQc",
        "colab_type": "text"
      },
      "source": [
        "# Creative RNN"
      ]
    },
    {
      "cell_type": "code",
      "metadata": {
        "id": "CJSLhjfaTt9O",
        "colab_type": "code",
        "colab": {
          "base_uri": "https://localhost:8080/",
          "height": 296
        },
        "outputId": "110f87ab-d9a3-4969-a2f4-ca23e4c7314c"
      },
      "source": [
        "with tf.Session() as sess:                        \n",
        "    saver.restore(sess, \"./my_time_series_model\") \n",
        "\n",
        "    sequence = [0.] * n_steps\n",
        "    for iteration in range(300):\n",
        "        X_batch = np.array(sequence[-n_steps:]).reshape(1, n_steps, 1)\n",
        "        y_pred = sess.run(outputs, feed_dict={X: X_batch})\n",
        "        sequence.append(y_pred[0, -1, 0])\n",
        "\n",
        "plt.figure(figsize=(8,4))\n",
        "plt.plot(np.arange(len(sequence)), sequence, \"b-\")\n",
        "plt.plot(t[:n_steps], sequence[:n_steps], \"b-\", linewidth=3)\n",
        "plt.xlabel(\"Time\")\n",
        "plt.ylabel(\"Value\")\n",
        "plt.show()"
      ],
      "execution_count": 78,
      "outputs": [
        {
          "output_type": "stream",
          "text": [
            "INFO:tensorflow:Restoring parameters from ./my_time_series_model\n"
          ],
          "name": "stdout"
        },
        {
          "output_type": "display_data",
          "data": {
            "image/png": "[encoded data removed]",
            "text/plain": [
              "<Figure size 576x288 with 1 Axes>"
            ]
          },
          "metadata": {
            "tags": [],
            "needs_background": "light"
          }
        }
      ]
    },
    {
      "cell_type": "markdown",
      "metadata": {
        "id": "d23rpXzkUNKg",
        "colab_type": "text"
      },
      "source": [
        "# Deep RNNs"
      ]
    },
    {
      "cell_type": "code",
      "metadata": {
        "id": "RyUfm21YUG4S",
        "colab_type": "code",
        "colab": {
          "base_uri": "https://localhost:8080/",
          "height": 228
        },
        "outputId": "925ae588-42dd-4783-d2d1-335c0414e572"
      },
      "source": [
        "tf.reset_default_graph()\n",
        "\n",
        "n_inputs = 2\n",
        "n_steps = 5\n",
        "n_neurons = 100\n",
        "n_layers = 3\n",
        "\n",
        "X = tf.placeholder(tf.float32, shape=[None, n_steps, n_inputs])\n",
        "\n",
        "layers = [tf.contrib.rnn.BasicRNNCell(num_units=n_neurons, activation=tf.nn.relu) for layer in range(n_layers)]\n",
        "\n",
        "multi_layer_cell = tf.contrib.rnn.MultiRNNCell(layers)\n",
        "outputs, states = tf.nn.dynamic_rnn(multi_layer_cell, X, dtype=tf.float32)\n",
        "\n",
        "init = tf.global_variables_initializer()"
      ],
      "execution_count": 79,
      "outputs": [
        {
          "output_type": "stream",
          "text": [
            "WARNING:tensorflow:From <ipython-input-79-ee22b9dc05b6>:12: MultiRNNCell.__init__ (from tensorflow.python.ops.rnn_cell_impl) is deprecated and will be removed in a future version.\n",
            "Instructions for updating:\n",
            "This class is equivalent as tf.keras.layers.StackedRNNCells, and will be replaced by that in Tensorflow 2.0.\n",
            "WARNING:tensorflow:Entity <bound method MultiRNNCell.call of <tensorflow.python.ops.rnn_cell_impl.MultiRNNCell object at 0x7f91f8426908>> could not be transformed and will be executed as-is. Please report this to the AutgoGraph team. When filing the bug, set the verbosity to 10 (on Linux, `export AUTOGRAPH_VERBOSITY=10`) and attach the full output. Cause: converting <bound method MultiRNNCell.call of <tensorflow.python.ops.rnn_cell_impl.MultiRNNCell object at 0x7f91f8426908>>: AttributeError: module 'gast' has no attribute 'Num'\n",
            "WARNING: Entity <bound method MultiRNNCell.call of <tensorflow.python.ops.rnn_cell_impl.MultiRNNCell object at 0x7f91f8426908>> could not be transformed and will be executed as-is. Please report this to the AutgoGraph team. When filing the bug, set the verbosity to 10 (on Linux, `export AUTOGRAPH_VERBOSITY=10`) and attach the full output. Cause: converting <bound method MultiRNNCell.call of <tensorflow.python.ops.rnn_cell_impl.MultiRNNCell object at 0x7f91f8426908>>: AttributeError: module 'gast' has no attribute 'Num'\n",
            "WARNING:tensorflow:Entity <bound method BasicRNNCell.call of <tensorflow.python.ops.rnn_cell_impl.BasicRNNCell object at 0x7f91f84264e0>> could not be transformed and will be executed as-is. Please report this to the AutgoGraph team. When filing the bug, set the verbosity to 10 (on Linux, `export AUTOGRAPH_VERBOSITY=10`) and attach the full output. Cause: converting <bound method BasicRNNCell.call of <tensorflow.python.ops.rnn_cell_impl.BasicRNNCell object at 0x7f91f84264e0>>: AssertionError: Bad argument number for Name: 3, expecting 4\n",
            "WARNING: Entity <bound method BasicRNNCell.call of <tensorflow.python.ops.rnn_cell_impl.BasicRNNCell object at 0x7f91f84264e0>> could not be transformed and will be executed as-is. Please report this to the AutgoGraph team. When filing the bug, set the verbosity to 10 (on Linux, `export AUTOGRAPH_VERBOSITY=10`) and attach the full output. Cause: converting <bound method BasicRNNCell.call of <tensorflow.python.ops.rnn_cell_impl.BasicRNNCell object at 0x7f91f84264e0>>: AssertionError: Bad argument number for Name: 3, expecting 4\n",
            "WARNING:tensorflow:Entity <bound method BasicRNNCell.call of <tensorflow.python.ops.rnn_cell_impl.BasicRNNCell object at 0x7f91f8426c50>> could not be transformed and will be executed as-is. Please report this to the AutgoGraph team. When filing the bug, set the verbosity to 10 (on Linux, `export AUTOGRAPH_VERBOSITY=10`) and attach the full output. Cause: converting <bound method BasicRNNCell.call of <tensorflow.python.ops.rnn_cell_impl.BasicRNNCell object at 0x7f91f8426c50>>: AssertionError: Bad argument number for Name: 3, expecting 4\n",
            "WARNING: Entity <bound method BasicRNNCell.call of <tensorflow.python.ops.rnn_cell_impl.BasicRNNCell object at 0x7f91f8426c50>> could not be transformed and will be executed as-is. Please report this to the AutgoGraph team. When filing the bug, set the verbosity to 10 (on Linux, `export AUTOGRAPH_VERBOSITY=10`) and attach the full output. Cause: converting <bound method BasicRNNCell.call of <tensorflow.python.ops.rnn_cell_impl.BasicRNNCell object at 0x7f91f8426c50>>: AssertionError: Bad argument number for Name: 3, expecting 4\n",
            "WARNING:tensorflow:Entity <bound method BasicRNNCell.call of <tensorflow.python.ops.rnn_cell_impl.BasicRNNCell object at 0x7f91f8426a90>> could not be transformed and will be executed as-is. Please report this to the AutgoGraph team. When filing the bug, set the verbosity to 10 (on Linux, `export AUTOGRAPH_VERBOSITY=10`) and attach the full output. Cause: converting <bound method BasicRNNCell.call of <tensorflow.python.ops.rnn_cell_impl.BasicRNNCell object at 0x7f91f8426a90>>: AssertionError: Bad argument number for Name: 3, expecting 4\n",
            "WARNING: Entity <bound method BasicRNNCell.call of <tensorflow.python.ops.rnn_cell_impl.BasicRNNCell object at 0x7f91f8426a90>> could not be transformed and will be executed as-is. Please report this to the AutgoGraph team. When filing the bug, set the verbosity to 10 (on Linux, `export AUTOGRAPH_VERBOSITY=10`) and attach the full output. Cause: converting <bound method BasicRNNCell.call of <tensorflow.python.ops.rnn_cell_impl.BasicRNNCell object at 0x7f91f8426a90>>: AssertionError: Bad argument number for Name: 3, expecting 4\n"
          ],
          "name": "stdout"
        }
      ]
    },
    {
      "cell_type": "code",
      "metadata": {
        "id": "3L0JGkJlXTni",
        "colab_type": "code",
        "colab": {
          "base_uri": "https://localhost:8080/",
          "height": 34
        },
        "outputId": "521dfa08-44d2-4e9f-ad5a-a098210fdb52"
      },
      "source": [
        "X_batch = np.random.rand(2, n_steps, n_inputs)\n",
        "\n",
        "with tf.Session() as sess:\n",
        "    init.run()\n",
        "    outputs_val, states_val = sess.run([outputs, states], feed_dict={X: X_batch})\n",
        "\n",
        "outputs_val.shape"
      ],
      "execution_count": 80,
      "outputs": [
        {
          "output_type": "execute_result",
          "data": {
            "text/plain": [
              "(2, 5, 100)"
            ]
          },
          "metadata": {
            "tags": []
          },
          "execution_count": 80
        }
      ]
    },
    {
      "cell_type": "markdown",
      "metadata": {
        "id": "pJ2Su9VXXhJO",
        "colab_type": "text"
      },
      "source": [
        "# Applying Dropuout\n",
        "The following code apploes dropout to the inputs of each layer in the RNN, dropping each input with a 50% probability:"
      ]
    },
    {
      "cell_type": "code",
      "metadata": {
        "id": "EOUdwWkBXaE_",
        "colab_type": "code",
        "colab": {
          "base_uri": "https://localhost:8080/",
          "height": 176
        },
        "outputId": "ba554996-52dc-4b33-cb0d-510aad0768ea"
      },
      "source": [
        "tf.reset_default_graph()\n",
        "\n",
        "keep_prob = 0.5\n",
        "n_inputs = 2\n",
        "n_steps = 5\n",
        "n_neurons = 100\n",
        "n_layers = 3\n",
        "\n",
        "X = tf.placeholder(tf.float32, shape=[None, n_steps, n_inputs])\n",
        "\n",
        "cells = [tf.contrib.rnn.BasicRNNCell(num_units=n_neurons) for layer in range(n_layers)]\n",
        "cells_drop = [tf.contrib.rnn.DropoutWrapper(cell, input_keep_prob=keep_prob) for cell in cells]\n",
        "multi_layer_cell = tf.contrib.rnn.MultiRNNCell(cells_drop)\n",
        "rnn_outputs, states = tf.nn.dynamic_rnn(multi_layer_cell, X, dtype=tf.float32)\n",
        "\n",
        "init = tf.global_variables_initializer()"
      ],
      "execution_count": 100,
      "outputs": [
        {
          "output_type": "stream",
          "text": [
            "WARNING:tensorflow:Entity <bound method MultiRNNCell.call of <tensorflow.python.ops.rnn_cell_impl.MultiRNNCell object at 0x7f91f7866898>> could not be transformed and will be executed as-is. Please report this to the AutgoGraph team. When filing the bug, set the verbosity to 10 (on Linux, `export AUTOGRAPH_VERBOSITY=10`) and attach the full output. Cause: converting <bound method MultiRNNCell.call of <tensorflow.python.ops.rnn_cell_impl.MultiRNNCell object at 0x7f91f7866898>>: AttributeError: module 'gast' has no attribute 'Num'\n",
            "WARNING: Entity <bound method MultiRNNCell.call of <tensorflow.python.ops.rnn_cell_impl.MultiRNNCell object at 0x7f91f7866898>> could not be transformed and will be executed as-is. Please report this to the AutgoGraph team. When filing the bug, set the verbosity to 10 (on Linux, `export AUTOGRAPH_VERBOSITY=10`) and attach the full output. Cause: converting <bound method MultiRNNCell.call of <tensorflow.python.ops.rnn_cell_impl.MultiRNNCell object at 0x7f91f7866898>>: AttributeError: module 'gast' has no attribute 'Num'\n",
            "WARNING:tensorflow:Entity <bound method BasicRNNCell.call of <tensorflow.python.ops.rnn_cell_impl.BasicRNNCell object at 0x7f91f78666d8>> could not be transformed and will be executed as-is. Please report this to the AutgoGraph team. When filing the bug, set the verbosity to 10 (on Linux, `export AUTOGRAPH_VERBOSITY=10`) and attach the full output. Cause: converting <bound method BasicRNNCell.call of <tensorflow.python.ops.rnn_cell_impl.BasicRNNCell object at 0x7f91f78666d8>>: AssertionError: Bad argument number for Name: 3, expecting 4\n",
            "WARNING: Entity <bound method BasicRNNCell.call of <tensorflow.python.ops.rnn_cell_impl.BasicRNNCell object at 0x7f91f78666d8>> could not be transformed and will be executed as-is. Please report this to the AutgoGraph team. When filing the bug, set the verbosity to 10 (on Linux, `export AUTOGRAPH_VERBOSITY=10`) and attach the full output. Cause: converting <bound method BasicRNNCell.call of <tensorflow.python.ops.rnn_cell_impl.BasicRNNCell object at 0x7f91f78666d8>>: AssertionError: Bad argument number for Name: 3, expecting 4\n",
            "WARNING:tensorflow:Entity <bound method BasicRNNCell.call of <tensorflow.python.ops.rnn_cell_impl.BasicRNNCell object at 0x7f91f78667b8>> could not be transformed and will be executed as-is. Please report this to the AutgoGraph team. When filing the bug, set the verbosity to 10 (on Linux, `export AUTOGRAPH_VERBOSITY=10`) and attach the full output. Cause: converting <bound method BasicRNNCell.call of <tensorflow.python.ops.rnn_cell_impl.BasicRNNCell object at 0x7f91f78667b8>>: AssertionError: Bad argument number for Name: 3, expecting 4\n",
            "WARNING: Entity <bound method BasicRNNCell.call of <tensorflow.python.ops.rnn_cell_impl.BasicRNNCell object at 0x7f91f78667b8>> could not be transformed and will be executed as-is. Please report this to the AutgoGraph team. When filing the bug, set the verbosity to 10 (on Linux, `export AUTOGRAPH_VERBOSITY=10`) and attach the full output. Cause: converting <bound method BasicRNNCell.call of <tensorflow.python.ops.rnn_cell_impl.BasicRNNCell object at 0x7f91f78667b8>>: AssertionError: Bad argument number for Name: 3, expecting 4\n",
            "WARNING:tensorflow:Entity <bound method BasicRNNCell.call of <tensorflow.python.ops.rnn_cell_impl.BasicRNNCell object at 0x7f91f7866908>> could not be transformed and will be executed as-is. Please report this to the AutgoGraph team. When filing the bug, set the verbosity to 10 (on Linux, `export AUTOGRAPH_VERBOSITY=10`) and attach the full output. Cause: converting <bound method BasicRNNCell.call of <tensorflow.python.ops.rnn_cell_impl.BasicRNNCell object at 0x7f91f7866908>>: AssertionError: Bad argument number for Name: 3, expecting 4\n",
            "WARNING: Entity <bound method BasicRNNCell.call of <tensorflow.python.ops.rnn_cell_impl.BasicRNNCell object at 0x7f91f7866908>> could not be transformed and will be executed as-is. Please report this to the AutgoGraph team. When filing the bug, set the verbosity to 10 (on Linux, `export AUTOGRAPH_VERBOSITY=10`) and attach the full output. Cause: converting <bound method BasicRNNCell.call of <tensorflow.python.ops.rnn_cell_impl.BasicRNNCell object at 0x7f91f7866908>>: AssertionError: Bad argument number for Name: 3, expecting 4\n"
          ],
          "name": "stdout"
        }
      ]
    },
    {
      "cell_type": "code",
      "metadata": {
        "id": "ZUyaHKmQZk5S",
        "colab_type": "code",
        "colab": {
          "base_uri": "https://localhost:8080/",
          "height": 34
        },
        "outputId": "5ca042c5-41a6-43af-814b-20a32bb6ca9f"
      },
      "source": [
        "X_batch = np.random.rand(2, n_steps, n_inputs)\n",
        "\n",
        "with tf.Session() as sess:\n",
        "  init.run()\n",
        "  outputs_val, states_val = sess.run([rnn_outputs, states], feed_dict={X: X_batch})\n",
        "\n",
        "outputs_val.shape"
      ],
      "execution_count": 82,
      "outputs": [
        {
          "output_type": "execute_result",
          "data": {
            "text/plain": [
              "(2, 5, 100)"
            ]
          },
          "metadata": {
            "tags": []
          },
          "execution_count": 82
        }
      ]
    },
    {
      "cell_type": "markdown",
      "metadata": {
        "id": "NY_XfuSlaEx3",
        "colab_type": "text"
      },
      "source": [
        "# LSTM Cell\n",
        "- lstm_cell = tf.contrib.rnn.BasicLSTMCell(num_units=n_neurons)\n",
        "- lstm_cell = tf.contrib.rnn.LSTMCell(num_units=n_neurons, use_peepholes=True)\n",
        "- gru_cell = tf.contrib.rnn.GRUCell(num_units=n_neurons)"
      ]
    },
    {
      "cell_type": "code",
      "metadata": {
        "id": "H3BHfUfVelQa",
        "colab_type": "code",
        "colab": {
          "base_uri": "https://localhost:8080/",
          "height": 211
        },
        "outputId": "bf3821d3-ce4e-4270-b17f-7c0b0855ffa4"
      },
      "source": [
        "tf.reset_default_graph()\n",
        "\n",
        "n_steps = 28\n",
        "n_inputs = 28\n",
        "n_neurons = 150\n",
        "n_outputs = 10\n",
        "n_layers = 3\n",
        "\n",
        "learning_rate = 0.001\n",
        "\n",
        "X = tf.placeholder(tf.float32, [None, n_steps, n_inputs])\n",
        "y = tf.placeholder(tf.int32, [None])\n",
        "\n",
        "lstm_cells = [tf.contrib.rnn.LSTMCell(num_units=n_neurons) for layer in range(n_layers)]\n",
        "multi_cell = tf.nn.rnn_cell.MultiRNNCell(lstm_cells)\n",
        "outputs, states = tf.nn.dynamic_rnn(multi_cell, X, dtype=tf.float32)\n",
        "top_layer_h_state = states[-1][1]\n",
        "logits = tf.layers.dense(top_layer_h_state, n_outputs, name=\"softmax\")\n",
        "xentropy = tf.nn.sparse_softmax_cross_entropy_with_logits(labels=y, logits=logits)\n",
        "loss = tf.reduce_mean(xentropy, name=\"loss\")\n",
        "optimizer = tf.train.AdamOptimizer(learning_rate=learning_rate)\n",
        "training_op = optimizer.minimize(loss)\n",
        "correct = tf.nn.in_top_k(logits, y, 1)\n",
        "accuracy = tf.reduce_mean(tf.cast(correct, tf.float32))\n",
        "\n",
        "init = tf.global_variables_initializer()"
      ],
      "execution_count": 11,
      "outputs": [
        {
          "output_type": "stream",
          "text": [
            "WARNING:tensorflow:Entity <bound method MultiRNNCell.call of <tensorflow.python.ops.rnn_cell_impl.MultiRNNCell object at 0x7f7976d5eac8>> could not be transformed and will be executed as-is. Please report this to the AutgoGraph team. When filing the bug, set the verbosity to 10 (on Linux, `export AUTOGRAPH_VERBOSITY=10`) and attach the full output. Cause: converting <bound method MultiRNNCell.call of <tensorflow.python.ops.rnn_cell_impl.MultiRNNCell object at 0x7f7976d5eac8>>: AttributeError: module 'gast' has no attribute 'Num'\n",
            "WARNING: Entity <bound method MultiRNNCell.call of <tensorflow.python.ops.rnn_cell_impl.MultiRNNCell object at 0x7f7976d5eac8>> could not be transformed and will be executed as-is. Please report this to the AutgoGraph team. When filing the bug, set the verbosity to 10 (on Linux, `export AUTOGRAPH_VERBOSITY=10`) and attach the full output. Cause: converting <bound method MultiRNNCell.call of <tensorflow.python.ops.rnn_cell_impl.MultiRNNCell object at 0x7f7976d5eac8>>: AttributeError: module 'gast' has no attribute 'Num'\n",
            "WARNING:tensorflow:Entity <bound method LSTMCell.call of <tensorflow.python.ops.rnn_cell_impl.LSTMCell object at 0x7f7976d5ea90>> could not be transformed and will be executed as-is. Please report this to the AutgoGraph team. When filing the bug, set the verbosity to 10 (on Linux, `export AUTOGRAPH_VERBOSITY=10`) and attach the full output. Cause: converting <bound method LSTMCell.call of <tensorflow.python.ops.rnn_cell_impl.LSTMCell object at 0x7f7976d5ea90>>: AttributeError: module 'gast' has no attribute 'Num'\n",
            "WARNING: Entity <bound method LSTMCell.call of <tensorflow.python.ops.rnn_cell_impl.LSTMCell object at 0x7f7976d5ea90>> could not be transformed and will be executed as-is. Please report this to the AutgoGraph team. When filing the bug, set the verbosity to 10 (on Linux, `export AUTOGRAPH_VERBOSITY=10`) and attach the full output. Cause: converting <bound method LSTMCell.call of <tensorflow.python.ops.rnn_cell_impl.LSTMCell object at 0x7f7976d5ea90>>: AttributeError: module 'gast' has no attribute 'Num'\n",
            "WARNING:tensorflow:Entity <bound method LSTMCell.call of <tensorflow.python.ops.rnn_cell_impl.LSTMCell object at 0x7f7976d5ed68>> could not be transformed and will be executed as-is. Please report this to the AutgoGraph team. When filing the bug, set the verbosity to 10 (on Linux, `export AUTOGRAPH_VERBOSITY=10`) and attach the full output. Cause: converting <bound method LSTMCell.call of <tensorflow.python.ops.rnn_cell_impl.LSTMCell object at 0x7f7976d5ed68>>: AttributeError: module 'gast' has no attribute 'Num'\n",
            "WARNING: Entity <bound method LSTMCell.call of <tensorflow.python.ops.rnn_cell_impl.LSTMCell object at 0x7f7976d5ed68>> could not be transformed and will be executed as-is. Please report this to the AutgoGraph team. When filing the bug, set the verbosity to 10 (on Linux, `export AUTOGRAPH_VERBOSITY=10`) and attach the full output. Cause: converting <bound method LSTMCell.call of <tensorflow.python.ops.rnn_cell_impl.LSTMCell object at 0x7f7976d5ed68>>: AttributeError: module 'gast' has no attribute 'Num'\n",
            "WARNING:tensorflow:Entity <bound method LSTMCell.call of <tensorflow.python.ops.rnn_cell_impl.LSTMCell object at 0x7f7976d5eb38>> could not be transformed and will be executed as-is. Please report this to the AutgoGraph team. When filing the bug, set the verbosity to 10 (on Linux, `export AUTOGRAPH_VERBOSITY=10`) and attach the full output. Cause: converting <bound method LSTMCell.call of <tensorflow.python.ops.rnn_cell_impl.LSTMCell object at 0x7f7976d5eb38>>: AttributeError: module 'gast' has no attribute 'Num'\n",
            "WARNING: Entity <bound method LSTMCell.call of <tensorflow.python.ops.rnn_cell_impl.LSTMCell object at 0x7f7976d5eb38>> could not be transformed and will be executed as-is. Please report this to the AutgoGraph team. When filing the bug, set the verbosity to 10 (on Linux, `export AUTOGRAPH_VERBOSITY=10`) and attach the full output. Cause: converting <bound method LSTMCell.call of <tensorflow.python.ops.rnn_cell_impl.LSTMCell object at 0x7f7976d5eb38>>: AttributeError: module 'gast' has no attribute 'Num'\n",
            "WARNING:tensorflow:Entity <bound method Dense.call of <tensorflow.python.layers.core.Dense object at 0x7f7976d5f0b8>> could not be transformed and will be executed as-is. Please report this to the AutgoGraph team. When filing the bug, set the verbosity to 10 (on Linux, `export AUTOGRAPH_VERBOSITY=10`) and attach the full output. Cause: converting <bound method Dense.call of <tensorflow.python.layers.core.Dense object at 0x7f7976d5f0b8>>: AssertionError: Bad argument number for Name: 3, expecting 4\n",
            "WARNING: Entity <bound method Dense.call of <tensorflow.python.layers.core.Dense object at 0x7f7976d5f0b8>> could not be transformed and will be executed as-is. Please report this to the AutgoGraph team. When filing the bug, set the verbosity to 10 (on Linux, `export AUTOGRAPH_VERBOSITY=10`) and attach the full output. Cause: converting <bound method Dense.call of <tensorflow.python.layers.core.Dense object at 0x7f7976d5f0b8>>: AssertionError: Bad argument number for Name: 3, expecting 4\n"
          ],
          "name": "stdout"
        }
      ]
    },
    {
      "cell_type": "code",
      "metadata": {
        "id": "1O2fMKT-4IlS",
        "colab_type": "code",
        "colab": {}
      },
      "source": [
        "(X_train, y_train), (X_test, y_test) = tf.keras.datasets.mnist.load_data()\n",
        "X_train = X_train.astype(np.float32).reshape(-1, 28*28) / 255.0\n",
        "X_test = X_test.astype(np.float32).reshape(-1, 28*28) / 255.0\n",
        "y_train = y_train.astype(np.int32)\n",
        "y_test = y_test.astype(np.int32)\n",
        "X_valid, X_train = X_train[:5000], X_train[5000:]\n",
        "y_valid, y_train = y_train[:5000], y_train[5000:]\n",
        "\n",
        "def shuffle_batch(X, y, batch_size):\n",
        "    rnd_idx = np.random.permutation(len(X))\n",
        "    n_batches = len(X) // batch_size\n",
        "    for batch_idx in np.array_split(rnd_idx, n_batches):\n",
        "        X_batch, y_batch = X[batch_idx], y[batch_idx]\n",
        "        yield X_batch, y_batch"
      ],
      "execution_count": 0,
      "outputs": []
    },
    {
      "cell_type": "code",
      "metadata": {
        "id": "GvAKJMM63ppT",
        "colab_type": "code",
        "colab": {
          "base_uri": "https://localhost:8080/",
          "height": 191
        },
        "outputId": "333a8001-8c88-4f2a-f221-52200eff79ec"
      },
      "source": [
        "n_epochs = 10\n",
        "batch_size = 128\n",
        "\n",
        "with tf.Session() as sess:\n",
        "  init.run()\n",
        "  for epoch in range(n_epochs):\n",
        "    for X_batch, y_batch in shuffle_batch(X_train, y_train, batch_size):\n",
        "      X_batch = X_batch.reshape((-1, n_steps, n_inputs))\n",
        "      sess.run(training_op, feed_dict={X: X_batch, y: y_batch})\n",
        "    acc_batch = accuracy.eval(feed_dict={X: X_batch, y: y_batch})\n",
        "    acc_test = accuracy.eval(feed_dict={X: X_test.reshape((-1, n_steps, n_inputs)), y: y_test})\n",
        "    print(epoch, \"Last batch accuracy:\", acc_batch, \"Test accuracy:\", acc_test)"
      ],
      "execution_count": 13,
      "outputs": [
        {
          "output_type": "stream",
          "text": [
            "0 Last batch accuracy: 0.9609375 Test accuracy: 0.9527\n",
            "1 Last batch accuracy: 0.984375 Test accuracy: 0.9732\n",
            "2 Last batch accuracy: 0.9921875 Test accuracy: 0.9777\n",
            "3 Last batch accuracy: 0.9921875 Test accuracy: 0.9819\n",
            "4 Last batch accuracy: 1.0 Test accuracy: 0.9794\n",
            "5 Last batch accuracy: 0.9921875 Test accuracy: 0.9856\n",
            "6 Last batch accuracy: 0.9921875 Test accuracy: 0.9861\n",
            "7 Last batch accuracy: 0.9921875 Test accuracy: 0.9845\n",
            "8 Last batch accuracy: 0.9921875 Test accuracy: 0.9883\n",
            "9 Last batch accuracy: 0.9921875 Test accuracy: 0.9869\n"
          ],
          "name": "stdout"
        }
      ]
    },
    {
      "cell_type": "markdown",
      "metadata": {
        "id": "Dq28N554AJPQ",
        "colab_type": "text"
      },
      "source": [
        "# Embeddings"
      ]
    },
    {
      "cell_type": "markdown",
      "metadata": {
        "id": "PH884AIsAixA",
        "colab_type": "text"
      },
      "source": [
        "## Fetch the Data"
      ]
    },
    {
      "cell_type": "code",
      "metadata": {
        "id": "yQaPwX5_4tvD",
        "colab_type": "code",
        "colab": {}
      },
      "source": [
        "from six.moves import urllib\n",
        "\n",
        "import errno\n",
        "import os\n",
        "import zipfile\n",
        "\n",
        "WORDS_PATH = \"datasets/words\"\n",
        "WORDS_URL = 'http://mattmahoney.net/dc/text8.zip'\n",
        "\n",
        "def mkdir_p(path):\n",
        "    \"\"\"Create directories, ok if they already exist.\n",
        "    \n",
        "    This is for python 2 support. In python >=3.2, simply use:\n",
        "    >>> os.makedirs(path, exist_ok=True)\n",
        "    \"\"\"\n",
        "    try:\n",
        "        os.makedirs(path)\n",
        "    except OSError as exc:\n",
        "        if exc.errno == errno.EEXIST and os.path.isdir(path):\n",
        "            pass\n",
        "        else:\n",
        "            raise\n",
        "\n",
        "def fetch_words_data(words_url=WORDS_URL, words_path=WORDS_PATH):\n",
        "    os.makedirs(words_path, exist_ok=True)\n",
        "    zip_path = os.path.join(words_path, \"words.zip\")\n",
        "    if not os.path.exists(zip_path):\n",
        "        urllib.request.urlretrieve(words_url, zip_path)\n",
        "    with zipfile.ZipFile(zip_path) as f:\n",
        "        data = f.read(f.namelist()[0])\n",
        "    return data.decode(\"ascii\").split()"
      ],
      "execution_count": 0,
      "outputs": []
    },
    {
      "cell_type": "code",
      "metadata": {
        "id": "GGHtq5UGACZC",
        "colab_type": "code",
        "colab": {}
      },
      "source": [
        "words = fetch_words_data()"
      ],
      "execution_count": 0,
      "outputs": []
    },
    {
      "cell_type": "code",
      "metadata": {
        "id": "RpzsJuksAGh0",
        "colab_type": "code",
        "colab": {
          "base_uri": "https://localhost:8080/",
          "height": 191
        },
        "outputId": "ee050401-b981-41b2-a6b9-221c5adddf50"
      },
      "source": [
        "words[:10]"
      ],
      "execution_count": 16,
      "outputs": [
        {
          "output_type": "execute_result",
          "data": {
            "text/plain": [
              "['anarchism',\n",
              " 'originated',\n",
              " 'as',\n",
              " 'a',\n",
              " 'term',\n",
              " 'of',\n",
              " 'abuse',\n",
              " 'first',\n",
              " 'used',\n",
              " 'against']"
            ]
          },
          "metadata": {
            "tags": []
          },
          "execution_count": 16
        }
      ]
    },
    {
      "cell_type": "markdown",
      "metadata": {
        "id": "J0AaNlPHAlr0",
        "colab_type": "text"
      },
      "source": [
        "## Build the Dictionary"
      ]
    },
    {
      "cell_type": "code",
      "metadata": {
        "id": "q7z3Wnc0ATok",
        "colab_type": "code",
        "colab": {}
      },
      "source": [
        "from collections import Counter\n",
        "\n",
        "vocabulary_size = 50000\n",
        "\n",
        "vocabulary = [('UNK', None)] + Counter(words).most_common(vocabulary_size - 1)\n",
        "vocabulary = np.array([word for word, _ in vocabulary])\n",
        "dictionary = {word: code for code, word in enumerate(vocabulary)}\n",
        "data = np.array([dictionary.get(word, 0) for word in words])"
      ],
      "execution_count": 0,
      "outputs": []
    },
    {
      "cell_type": "code",
      "metadata": {
        "id": "PXYXlbPZAvV3",
        "colab_type": "code",
        "colab": {
          "base_uri": "https://localhost:8080/",
          "height": 52
        },
        "outputId": "58d0368a-4e41-4fd3-ded4-e0a1502f77b4"
      },
      "source": [
        "\" \".join(words[:9]), data[:9]"
      ],
      "execution_count": 35,
      "outputs": [
        {
          "output_type": "execute_result",
          "data": {
            "text/plain": [
              "('anarchism originated as a term of abuse first used',\n",
              " array([5234, 3081,   12,    6,  195,    2, 3134,   46,   59]))"
            ]
          },
          "metadata": {
            "tags": []
          },
          "execution_count": 35
        }
      ]
    },
    {
      "cell_type": "code",
      "metadata": {
        "id": "XLpZCtQFCpxI",
        "colab_type": "code",
        "colab": {}
      },
      "source": [
        ""
      ],
      "execution_count": 0,
      "outputs": []
    }
  ]
}